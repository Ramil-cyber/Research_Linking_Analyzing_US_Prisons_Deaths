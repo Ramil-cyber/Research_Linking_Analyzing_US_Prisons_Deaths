{
 "cells": [
  {
   "cell_type": "code",
   "execution_count": 1,
   "id": "91a88fe4",
   "metadata": {},
   "outputs": [],
   "source": [
    "import pandas as pd\n",
    "\n",
    "# ------------------------------------------------------------------\n",
    "# 1) Load the two datasets\n",
    "# ------------------------------------------------------------------\n",
    "df_pop    = pd.read_csv(\"https://raw.githubusercontent.com/Ramil-cyber/Research_Linking_Analyzing_Deaths_US_Prisons/refs/heads/main/Data_Manipulation/Prison_population_2015_2022_updated.csv\", low_memory=False)\n",
    "df_deaths = pd.read_csv(\"https://raw.githubusercontent.com/Ramil-cyber/Research_Linking_Analyzing_Deaths_US_Prisons/refs/heads/main/Data_Manipulation/Cleaned_BJA_BJS_prison_deaths_by_state_year_2015_2022.csv\", low_memory=False)\n",
    "\n"
   ]
  },
  {
   "cell_type": "code",
   "execution_count": 2,
   "id": "8d3b0795",
   "metadata": {},
   "outputs": [
    {
     "name": "stdout",
     "output_type": "stream",
     "text": [
      "Saved merged dataset without 'State'/'Year' and with 'deaths' lowercase to:\n",
      "Combined_death_pop.csv\n",
      "   year state_abbr state_name  state_fips region division  total_pop_15to64  \\\n",
      "0  2022         AK     Alaska           2   West  Pacific            484376   \n",
      "1  2021         AK     Alaska           2   West  Pacific            486916   \n",
      "2  2020         AK     Alaska           2   West  Pacific            488623   \n",
      "3  2019         AK     Alaska           2   West  Pacific            493016   \n",
      "4  2018         AK     Alaska           2   West  Pacific            497876   \n",
      "\n",
      "   female_pop_15to64  male_pop_15to64  aapi_pop_15to64  ...  \\\n",
      "0             224281           260095            44427  ...   \n",
      "1             225591           261325            44109  ...   \n",
      "2             226819           261804            43920  ...   \n",
      "3             229285           263731            43819  ...   \n",
      "4             231938           265938            43449  ...   \n",
      "\n",
      "   male_jail_pop_rate  total_prison_pop  female_prison_pop  female_total  \\\n",
      "0                 999              1505                 75           410   \n",
      "1                1040              1563                 85           442   \n",
      "2                 941              1794                 99           419   \n",
      "3                 890              1782                 82           426   \n",
      "4                 808              1939                 87           379   \n",
      "\n",
      "   male_prison_pop  male_total  total_prison_pop_rate  female_prison_pop_rate  \\\n",
      "0             1430        4029                    310                      33   \n",
      "1             1478        4197                    320                      37   \n",
      "2             1695        4159                    367                      43   \n",
      "3             1700        4049                    361                      35   \n",
      "4             1852        4001                    389                      37   \n",
      "\n",
      "   male_prison_pop_rate  deaths  \n",
      "0                   549      18  \n",
      "1                   565      23  \n",
      "2                   647      14  \n",
      "3                   644       3  \n",
      "4                   696      11  \n",
      "\n",
      "[5 rows x 47 columns]\n"
     ]
    }
   ],
   "source": [
    "# ------------------------------------------------------------------\n",
    "# 2) Standardize merge keys on pop dataset\n",
    "# ------------------------------------------------------------------\n",
    "df_pop['State'] = df_pop['state_name'].str.upper()\n",
    "df_pop['Year']  = df_pop['year']\n",
    "\n",
    "# ------------------------------------------------------------------\n",
    "# 3) Rename 'Deaths' to lowercase 'deaths' in deaths dataset\n",
    "# ------------------------------------------------------------------\n",
    "df_deaths = df_deaths.rename(columns={'Deaths': 'deaths'})\n",
    "\n",
    "# ------------------------------------------------------------------\n",
    "# 4) Merge on Year and State\n",
    "# ------------------------------------------------------------------\n",
    "combined = pd.merge(\n",
    "    df_pop,\n",
    "    df_deaths,\n",
    "    on=['Year', 'State'],\n",
    "    how='inner'\n",
    ")\n",
    "\n",
    "# ------------------------------------------------------------------\n",
    "# 5) Drop unwanted columns: original state/year and the merge keys\n",
    "# ------------------------------------------------------------------\n",
    "combined = combined.drop(columns=[\n",
    "    'State', 'Year'        \n",
    "])\n",
    "\n",
    "# ------------------------------------------------------------------\n",
    "# 6) Save the cleaned, merged dataset\n",
    "# ------------------------------------------------------------------\n",
    "output_path = 'Combined_death_pop.csv'\n",
    "combined.to_csv(output_path, index=False)\n",
    "\n",
    "# ------------------------------------------------------------------\n",
    "# 7) Confirmation\n",
    "# ------------------------------------------------------------------\n",
    "print(f\"Saved merged dataset without 'State'/'Year' and with 'deaths' lowercase to:\\n{output_path}\")\n",
    "print(combined.head())\n"
   ]
  }
 ],
 "metadata": {
  "kernelspec": {
   "display_name": "Python 3",
   "language": "python",
   "name": "python3"
  },
  "language_info": {
   "codemirror_mode": {
    "name": "ipython",
    "version": 3
   },
   "file_extension": ".py",
   "mimetype": "text/x-python",
   "name": "python",
   "nbconvert_exporter": "python",
   "pygments_lexer": "ipython3",
   "version": "3.11.9"
  }
 },
 "nbformat": 4,
 "nbformat_minor": 5
}
