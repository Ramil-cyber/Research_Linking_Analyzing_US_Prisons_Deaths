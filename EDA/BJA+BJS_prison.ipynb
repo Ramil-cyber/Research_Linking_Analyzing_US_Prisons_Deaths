{
 "cells": [
  {
   "cell_type": "code",
   "execution_count": null,
   "id": "1fed75f7",
   "metadata": {},
   "outputs": [],
   "source": [
    "import pandas as pd\n",
    "\n",
    "# 1) Load both cleaned datasets\n",
    "BJA = pd.read_csv('/mnt/data/BJA_cleaned.csv', low_memory=False)\n",
    "BJS_prison = pd.read_csv('/mnt/data/BJS_cleaned.csv', low_memory=False)\n",
    "\n",
    "# 2) Align on common columns\n",
    "common_cols = list(set(bja.columns).intersection(bjs.columns))\n",
    "bja = bja[common_cols]\n",
    "bjs = bjs[common_cols]\n",
    "\n",
    "# 3) Concatenate row-wise\n",
    "merged = pd.concat([bja, bjs], ignore_index=True)\n",
    "\n",
    "# 4) Reset index and save the result\n",
    "merged.reset_index(drop=True, inplace=True)\n",
    "merged.to_csv('/mnt/data/merged_BJA_BJS.csv', index=False)\n",
    "\n",
    "print(f\"Merged dataset saved to '/mnt/data/merged_BJA_BJS.csv' ({merged.shape[0]} rows × {merged.shape[1]} columns)\")\n"
   ]
  }
 ],
 "metadata": {
  "kernelspec": {
   "display_name": "Python 3",
   "language": "python",
   "name": "python3"
  },
  "language_info": {
   "codemirror_mode": {
    "name": "ipython",
    "version": 3
   },
   "file_extension": ".py",
   "mimetype": "text/x-python",
   "name": "python",
   "nbconvert_exporter": "python",
   "pygments_lexer": "ipython3",
   "version": "3.11.9"
  }
 },
 "nbformat": 4,
 "nbformat_minor": 5
}
