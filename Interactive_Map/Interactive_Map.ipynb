{
 "cells": [
  {
   "cell_type": "code",
   "execution_count": 1,
   "id": "1fed75f7",
   "metadata": {},
   "outputs": [],
   "source": [
    "import pandas as pd\n",
    "import plotly.express as px\n",
    "import plotly.graph_objects as go\n",
    "\n",
    "BJA = pd.read_csv(\n",
    "    \"https://raw.githubusercontent.com/Ramil-cyber/Research_Linking_Analyzing_Deaths_US_Prisons/refs/heads/main/Data/BJA_cleaned.csv\",\n",
    "    low_memory=False,\n",
    ")\n",
    "BJS_prison = pd.read_csv(\n",
    "    \"https://raw.githubusercontent.com/Ramil-cyber/Research_Linking_Analyzing_Deaths_US_Prisons/refs/heads/main/Data/BJS_cleaned.csv\",\n",
    "    low_memory=False,\n",
    ")\n",
    "\n",
    "# Aligning on common columns\n",
    "common_cols = list(set(BJA.columns).intersection(BJS_prison.columns))\n",
    "BJA = BJA[common_cols]\n",
    "BJS_prison = BJS_prison[common_cols]\n",
    "\n",
    "# Concatenating row-wise\n",
    "Merged_BJA_BJS_prison = pd.concat([BJA, BJS_prison], ignore_index=True)\n",
    "\n",
    "# Reordering columns in the specified sequence\n",
    "cols_order = [\n",
    "    \"First_Name\",\n",
    "    \"Last_Name\",\n",
    "    \"Gender\",\n",
    "    \"Race\",\n",
    "    \"Birth_Year\",\n",
    "    \"Reporting_Death_Year\",\n",
    "    \"State_Name\",\n",
    "    \"City_Name\",\n",
    "    \"Facility_Name\",\n",
    "    \"Death_Cause\",\n",
    "    \"Source\",\n",
    "]\n",
    "Merged_BJA_BJS_prison = Merged_BJA_BJS_prison[cols_order]"
   ]
  },
  {
   "cell_type": "code",
   "execution_count": 2,
   "id": "4a529cfa",
   "metadata": {},
   "outputs": [
    {
     "data": {
      "application/vnd.microsoft.datawrangler.viewer.v0+json": {
       "columns": [
        {
         "name": "index",
         "rawType": "int64",
         "type": "integer"
        },
        {
         "name": "First_Name",
         "rawType": "object",
         "type": "unknown"
        },
        {
         "name": "Last_Name",
         "rawType": "object",
         "type": "unknown"
        },
        {
         "name": "Gender",
         "rawType": "object",
         "type": "unknown"
        },
        {
         "name": "Race",
         "rawType": "object",
         "type": "string"
        },
        {
         "name": "Birth_Year",
         "rawType": "float64",
         "type": "float"
        },
        {
         "name": "Reporting_Death_Year",
         "rawType": "Int64",
         "type": "integer"
        },
        {
         "name": "State_Name",
         "rawType": "object",
         "type": "unknown"
        },
        {
         "name": "City_Name",
         "rawType": "object",
         "type": "unknown"
        },
        {
         "name": "Facility_Name",
         "rawType": "object",
         "type": "unknown"
        },
        {
         "name": "Death_Cause",
         "rawType": "object",
         "type": "unknown"
        },
        {
         "name": "Source",
         "rawType": "object",
         "type": "string"
        }
       ],
       "ref": "2c444d4a-7983-4908-ad7d-8330730a52f4",
       "rows": [
        [
         "0",
         "Jose",
         "Sanchez",
         "Male",
         "Hispanic or Latino",
         "1927.0",
         "2015",
         "Wyoming",
         "Torrington",
         "Wyoming Medium Correctional",
         "Illness",
         "BJS"
        ],
        [
         "1",
         "Ernesto",
         "Nieves",
         "Male",
         "Hispanic or Latino",
         "1964.0",
         "2015",
         "Massachusetts",
         "Bridgewater",
         "Bwater State Hospital",
         "Illness",
         "BJS"
        ],
        [
         "2",
         "Francis",
         "Soffen",
         "Male",
         "White (not Hispanic)",
         "1939.0",
         "2015",
         "Massachusetts",
         "Shirley",
         "MCI Shirley",
         "Illness",
         "BJS"
        ],
        [
         "3",
         "Kenneth",
         "Getchell",
         "Male",
         "White (not Hispanic)",
         "1931.0",
         "2015",
         "Massachusetts",
         "Shirley",
         "MCI Shirley",
         "Illness",
         "BJS"
        ],
        [
         "4",
         "Alfred",
         "Trudell",
         "Male",
         "White (not Hispanic)",
         "1942.0",
         "2015",
         "Massachusetts",
         "Shirley",
         "MCI Shirley",
         "Illness",
         "BJS"
        ],
        [
         "5",
         "Emilian",
         "Paszko",
         "Male",
         "White (not Hispanic)",
         "1951.0",
         "2015",
         "Massachusetts",
         "Shirley",
         "MCI Shirley",
         "Illness",
         "BJS"
        ],
        [
         "6",
         "David",
         "Patridge",
         "Male",
         "White (not Hispanic)",
         "1958.0",
         "2015",
         "Massachusetts",
         "Shirley",
         "MCI Shirley",
         "Illness",
         "BJS"
        ],
        [
         "7",
         "Gary",
         "Hampton",
         "Male",
         "White (not Hispanic)",
         "1950.0",
         "2015",
         "Michigan",
         "Muskegon",
         "Brooks Correctional Facility",
         "Illness",
         "BJS"
        ],
        [
         "8",
         "Robert",
         "Hubbard",
         "Male",
         "White (not Hispanic)",
         "1926.0",
         "2015",
         "Massachusetts",
         "Jamaica Plain",
         "Lemuel Shattuck Hospital",
         "Illness",
         "BJS"
        ],
        [
         "9",
         "Kossayambe",
         "Anthony",
         "Male",
         "Black or African American",
         "1969.0",
         "2015",
         "Michigan",
         "Jackson",
         "Parnall Correctional Facility (SMT)",
         "Illness",
         "BJS"
        ],
        [
         "10",
         "Ronald",
         "Clark",
         "Male",
         "Black or African American",
         "1941.0",
         "2015",
         "Michigan",
         "Jackson",
         "Duane Waters Health Center",
         "Illness",
         "BJS"
        ],
        [
         "11",
         "Sandy",
         "Quick",
         "Male",
         "Black or African American",
         "1951.0",
         "2015",
         "Michigan",
         "Jackson",
         "Duane Waters Health Center",
         "Illness",
         "BJS"
        ],
        [
         "12",
         "Marcos",
         "Gomez",
         "Male",
         "Hispanic or Latino",
         "1964.0",
         "2015",
         "Michigan",
         "Jackson",
         "Duane Waters Health Center",
         "Illness",
         "BJS"
        ],
        [
         "13",
         "Isaac",
         "Drew",
         "Male",
         "Black or African American",
         "1962.0",
         "2015",
         "Michigan",
         "Jackson",
         "Duane Waters Health Center",
         "Illness",
         "BJS"
        ],
        [
         "14",
         "Robert",
         "Loney",
         "Male",
         "White (not Hispanic)",
         "1949.0",
         "2015",
         "Michigan",
         "Jackson",
         "Duane Waters Health Center",
         "Illness",
         "BJS"
        ],
        [
         "15",
         "Steven",
         "Osternout",
         "Male",
         "White (not Hispanic)",
         "1971.0",
         "2015",
         "Michigan",
         "Baraga",
         "Baraga Maximum Correctional Facility (AMF)",
         "Suicide",
         "BJS"
        ],
        [
         "16",
         "Mark",
         "Bennett",
         "Male",
         "White (not Hispanic)",
         "1963.0",
         "2015",
         "Michigan",
         "Ionia",
         "Ionia Correctional Facility (ICF)",
         "Illness",
         "BJS"
        ],
        [
         "17",
         "Michael",
         "Kerr",
         "Male",
         "White (not Hispanic)",
         "1972.0",
         "2015",
         "Michigan",
         "Jackson",
         "Duane Waters Health Center",
         "Illness",
         "BJS"
        ],
        [
         "18",
         "Jim",
         "Bui",
         "Male",
         "Asian (not Hispanic)",
         "1963.0",
         "2015",
         "Massachusetts",
         "Shirley",
         "MCI Shirley",
         "Illness",
         "BJS"
        ],
        [
         "19",
         "Corey",
         "Andrade",
         "Male",
         "Black or African American",
         "1960.0",
         "2015",
         "Massachusetts",
         "Bridgewater",
         "Old Colony Correctional Center",
         null,
         "BJS"
        ],
        [
         "20",
         "Joseph",
         "Watson",
         "Male",
         "Black or African American",
         "1934.0",
         "2015",
         "Massachusetts",
         "Bridgewater",
         "Old Colony Correctional Center",
         "Illness",
         "BJS"
        ],
        [
         "21",
         "Tyree",
         "Echols",
         "Male",
         "Black or African American",
         "1976.0",
         "2015",
         "Maryland",
         "Westover",
         "Eastern Correctional Institution",
         "Illness",
         "BJS"
        ],
        [
         "22",
         "Earl",
         "Lawton",
         "Male",
         "White (not Hispanic)",
         "1943.0",
         "2015",
         "Maryland",
         "Cumberland",
         "Western Correctional Institution",
         "Illness",
         "BJS"
        ],
        [
         "23",
         "Manuel",
         "Higgins",
         "Male",
         "Black or African American",
         "1989.0",
         "2015",
         "Maryland",
         "Cumberland",
         "North Branch Correctional Institution",
         "Suicide",
         "BJS"
        ],
        [
         "24",
         "Troy",
         "Frazier",
         "Male",
         "Black or African American",
         "1961.0",
         "2015",
         "Maryland",
         "Jessup",
         "Maryland Correctional Institution - Jessup",
         "Illness",
         "BJS"
        ],
        [
         "25",
         "John",
         "Prince",
         "Male",
         "Black or African American",
         "1957.0",
         "2015",
         "Maryland",
         "Jessup",
         "Jessup Correctional Institution",
         "Illness",
         "BJS"
        ],
        [
         "26",
         "Douglas",
         "Minchillo",
         "Male",
         "White (not Hispanic)",
         "1959.0",
         "2015",
         "Maryland",
         "Jessup",
         "Jessup Correctional Institution",
         "Illness",
         "BJS"
        ],
        [
         "27",
         "Ronald",
         "Armstrong",
         "Male",
         "Black or African American",
         "1955.0",
         "2015",
         "Maryland",
         "Hagerstown",
         "Maryland Correctional Institution Hagerstwon",
         "Illness",
         "BJS"
        ],
        [
         "28",
         "Timothy",
         "Howard",
         "Male",
         "Black or African American",
         "1974.0",
         "2015",
         "Maryland",
         "Cumberland",
         "North Branch Correctional Institution",
         "Accident",
         "BJS"
        ],
        [
         "29",
         "Timonthy",
         "Robinson",
         "Male",
         "Black or African American",
         "1962.0",
         "2015",
         "Maryland",
         "Jessup",
         "Maryland Correctional Institution Jessup",
         "Illness",
         "BJS"
        ],
        [
         "30",
         "Franklin",
         "Rankin",
         "Male",
         "Black or African American",
         "1949.0",
         "2015",
         "Maryland",
         "Jessup",
         "Jessup Correctional Institution",
         "Illness",
         "BJS"
        ],
        [
         "31",
         "Daniel",
         "Harney",
         "Male",
         "White (not Hispanic)",
         "1959.0",
         "2015",
         "Maryland",
         "Jessup",
         "Jessup Correctional Institution",
         "Illness",
         "BJS"
        ],
        [
         "32",
         "Norman",
         "Carroll",
         "Male",
         "Black or African American",
         "1933.0",
         "2015",
         "Maryland",
         "Jessup",
         "Roxbury Correctional Institution",
         "Illness",
         "BJS"
        ],
        [
         "33",
         "Ray",
         "Nelson",
         "Male",
         "Black or African American",
         "1954.0",
         "2015",
         "Maryland",
         "Hagerstown",
         "Maryland Correctional Training Center",
         "Illness",
         "BJS"
        ],
        [
         "34",
         "Wayne",
         "Young",
         "Male",
         "White (not Hispanic)",
         "1945.0",
         "2015",
         "Maryland",
         "Jessup",
         "Jessup Correctional Institute",
         "Illness",
         "BJS"
        ],
        [
         "35",
         "Gilbert",
         "Bacon",
         "Male",
         "Black or African American",
         "1963.0",
         "2015",
         "Maryland",
         "Cumberland",
         "North Branch Correctional Institution",
         "Illness",
         "BJS"
        ],
        [
         "36",
         "Aaron",
         "Harris",
         "Male",
         "Black or African American",
         "1961.0",
         "2015",
         "Maryland",
         "Baltimore",
         "Baltimore City Correctional Center",
         "Illness",
         "BJS"
        ],
        [
         "37",
         "Herbert",
         "Weare",
         "Male",
         "White (not Hispanic)",
         "1955.0",
         "2015",
         "Maryland",
         "Hagerstown",
         "Maryland Correctional Institution Hagerstown",
         "Illness",
         "BJS"
        ],
        [
         "38",
         "George",
         "Billups",
         "Male",
         "Black or African American",
         "1952.0",
         "2015",
         "Michigan",
         "Jackson",
         "Duane Waters Health Center",
         "Illness",
         "BJS"
        ],
        [
         "39",
         "Frank",
         "Smith",
         "Male",
         "White (not Hispanic)",
         "1957.0",
         "2015",
         "Michigan",
         "Coldwater",
         "Lakeland Correctional Facility",
         "Illness",
         "BJS"
        ],
        [
         "40",
         "Janika",
         "Edmond",
         "Female",
         "Black or African American",
         "1990.0",
         "2015",
         "Michigan",
         "Ypsilanti",
         "Womens Huron Valley",
         "Suicide",
         "BJS"
        ],
        [
         "41",
         "Alfred",
         "Evans",
         "Male",
         "White (not Hispanic)",
         "1942.0",
         "2015",
         "Michigan",
         "Coldwater",
         "Lakeland Correctional Facility",
         "Illness",
         "BJS"
        ],
        [
         "42",
         "Thong",
         "Vang",
         "Male",
         "Asian (not Hispanic)",
         "1980.0",
         "2015",
         "Minnesota",
         "Stillwater",
         "Minnesota Correctional Facility-Oak Park Heights",
         "Illness",
         "BJS"
        ],
        [
         "43",
         "earl",
         "reeves",
         "Male",
         "Black or African American",
         "1957.0",
         "2015",
         "Mississippi",
         "Parchman",
         "MSP",
         "Illness",
         "BJS"
        ],
        [
         "44",
         "clifton",
         "williams",
         "Male",
         "Black or African American",
         "1978.0",
         "2015",
         "Mississippi",
         "Parchman",
         "MSP",
         "Illness",
         "BJS"
        ],
        [
         "45",
         "billy",
         "poyner",
         "Male",
         "White (not Hispanic)",
         "1953.0",
         "2015",
         "Mississippi",
         "PARCHMAN",
         "MSP",
         "Illness",
         "BJS"
        ],
        [
         "46",
         "vincent",
         "yucaitis",
         "Male",
         "White (not Hispanic)",
         "1962.0",
         "2015",
         "Mississippi",
         "PARCHMAN",
         "MSP",
         null,
         "BJS"
        ],
        [
         "47",
         "CHARLES",
         "GLOVER",
         "Male",
         "Black or African American",
         "1941.0",
         "2015",
         "Mississippi",
         "PARCHMAN",
         "MSP",
         "Illness",
         "BJS"
        ],
        [
         "48",
         "William",
         "Hester",
         "Male",
         "White (not Hispanic)",
         "1944.0",
         "2015",
         "Mississippi",
         "LEAKESVILLE",
         "SMCI",
         "Illness",
         "BJS"
        ],
        [
         "49",
         "RICKY",
         "FLANNIGAN",
         "Male",
         "White (not Hispanic)",
         "1966.0",
         "2015",
         "Mississippi",
         "PARCHMAN",
         "MSP",
         "Illness",
         "BJS"
        ]
       ],
       "shape": {
        "columns": 11,
        "rows": 42018
       }
      },
      "text/html": [
       "<div>\n",
       "<style scoped>\n",
       "    .dataframe tbody tr th:only-of-type {\n",
       "        vertical-align: middle;\n",
       "    }\n",
       "\n",
       "    .dataframe tbody tr th {\n",
       "        vertical-align: top;\n",
       "    }\n",
       "\n",
       "    .dataframe thead th {\n",
       "        text-align: right;\n",
       "    }\n",
       "</style>\n",
       "<table border=\"1\" class=\"dataframe\">\n",
       "  <thead>\n",
       "    <tr style=\"text-align: right;\">\n",
       "      <th></th>\n",
       "      <th>First_Name</th>\n",
       "      <th>Last_Name</th>\n",
       "      <th>Gender</th>\n",
       "      <th>Race</th>\n",
       "      <th>Birth_Year</th>\n",
       "      <th>Reporting_Death_Year</th>\n",
       "      <th>State_Name</th>\n",
       "      <th>City_Name</th>\n",
       "      <th>Facility_Name</th>\n",
       "      <th>Death_Cause</th>\n",
       "      <th>Source</th>\n",
       "    </tr>\n",
       "  </thead>\n",
       "  <tbody>\n",
       "    <tr>\n",
       "      <th>0</th>\n",
       "      <td>Jose</td>\n",
       "      <td>Sanchez</td>\n",
       "      <td>Male</td>\n",
       "      <td>Hispanic or Latino</td>\n",
       "      <td>1927.0</td>\n",
       "      <td>2015</td>\n",
       "      <td>Wyoming</td>\n",
       "      <td>Torrington</td>\n",
       "      <td>Wyoming Medium Correctional</td>\n",
       "      <td>Illness</td>\n",
       "      <td>BJS</td>\n",
       "    </tr>\n",
       "    <tr>\n",
       "      <th>1</th>\n",
       "      <td>Ernesto</td>\n",
       "      <td>Nieves</td>\n",
       "      <td>Male</td>\n",
       "      <td>Hispanic or Latino</td>\n",
       "      <td>1964.0</td>\n",
       "      <td>2015</td>\n",
       "      <td>Massachusetts</td>\n",
       "      <td>Bridgewater</td>\n",
       "      <td>Bwater State Hospital</td>\n",
       "      <td>Illness</td>\n",
       "      <td>BJS</td>\n",
       "    </tr>\n",
       "    <tr>\n",
       "      <th>2</th>\n",
       "      <td>Francis</td>\n",
       "      <td>Soffen</td>\n",
       "      <td>Male</td>\n",
       "      <td>White (not Hispanic)</td>\n",
       "      <td>1939.0</td>\n",
       "      <td>2015</td>\n",
       "      <td>Massachusetts</td>\n",
       "      <td>Shirley</td>\n",
       "      <td>MCI Shirley</td>\n",
       "      <td>Illness</td>\n",
       "      <td>BJS</td>\n",
       "    </tr>\n",
       "    <tr>\n",
       "      <th>3</th>\n",
       "      <td>Kenneth</td>\n",
       "      <td>Getchell</td>\n",
       "      <td>Male</td>\n",
       "      <td>White (not Hispanic)</td>\n",
       "      <td>1931.0</td>\n",
       "      <td>2015</td>\n",
       "      <td>Massachusetts</td>\n",
       "      <td>Shirley</td>\n",
       "      <td>MCI Shirley</td>\n",
       "      <td>Illness</td>\n",
       "      <td>BJS</td>\n",
       "    </tr>\n",
       "    <tr>\n",
       "      <th>4</th>\n",
       "      <td>Alfred</td>\n",
       "      <td>Trudell</td>\n",
       "      <td>Male</td>\n",
       "      <td>White (not Hispanic)</td>\n",
       "      <td>1942.0</td>\n",
       "      <td>2015</td>\n",
       "      <td>Massachusetts</td>\n",
       "      <td>Shirley</td>\n",
       "      <td>MCI Shirley</td>\n",
       "      <td>Illness</td>\n",
       "      <td>BJS</td>\n",
       "    </tr>\n",
       "    <tr>\n",
       "      <th>...</th>\n",
       "      <td>...</td>\n",
       "      <td>...</td>\n",
       "      <td>...</td>\n",
       "      <td>...</td>\n",
       "      <td>...</td>\n",
       "      <td>...</td>\n",
       "      <td>...</td>\n",
       "      <td>...</td>\n",
       "      <td>...</td>\n",
       "      <td>...</td>\n",
       "      <td>...</td>\n",
       "    </tr>\n",
       "    <tr>\n",
       "      <th>42013</th>\n",
       "      <td>Brandon</td>\n",
       "      <td>Stephenson</td>\n",
       "      <td>Male</td>\n",
       "      <td>Black or African American</td>\n",
       "      <td>1994.0</td>\n",
       "      <td>2023</td>\n",
       "      <td>Ohio</td>\n",
       "      <td>COLUMBUS</td>\n",
       "      <td>Ohio Office of Criminal Justice Services</td>\n",
       "      <td>Illness</td>\n",
       "      <td>BJA</td>\n",
       "    </tr>\n",
       "    <tr>\n",
       "      <th>42014</th>\n",
       "      <td>Joseph</td>\n",
       "      <td>Bennet Jr.</td>\n",
       "      <td>Male</td>\n",
       "      <td>White (not Hispanic)</td>\n",
       "      <td>1981.0</td>\n",
       "      <td>2023</td>\n",
       "      <td>Ohio</td>\n",
       "      <td>Columbus</td>\n",
       "      <td>Ohio Office of Criminal Justice Services</td>\n",
       "      <td>Illness</td>\n",
       "      <td>BJA</td>\n",
       "    </tr>\n",
       "    <tr>\n",
       "      <th>42015</th>\n",
       "      <td>Anthony</td>\n",
       "      <td>Starr</td>\n",
       "      <td>Male</td>\n",
       "      <td>White (not Hispanic)</td>\n",
       "      <td>1943.0</td>\n",
       "      <td>2023</td>\n",
       "      <td>Ohio</td>\n",
       "      <td>Grafton</td>\n",
       "      <td>Ohio Office of Criminal Justice Services</td>\n",
       "      <td>Illness</td>\n",
       "      <td>BJA</td>\n",
       "    </tr>\n",
       "    <tr>\n",
       "      <th>42016</th>\n",
       "      <td>Joseph</td>\n",
       "      <td>Williams</td>\n",
       "      <td>Male</td>\n",
       "      <td>Black or African American</td>\n",
       "      <td>1952.0</td>\n",
       "      <td>2023</td>\n",
       "      <td>Ohio</td>\n",
       "      <td>COLUMBUS</td>\n",
       "      <td>Ohio Office of Criminal Justice Services</td>\n",
       "      <td>Illness</td>\n",
       "      <td>BJA</td>\n",
       "    </tr>\n",
       "    <tr>\n",
       "      <th>42017</th>\n",
       "      <td>Kerry</td>\n",
       "      <td>Mallard</td>\n",
       "      <td>Male</td>\n",
       "      <td>White (not Hispanic)</td>\n",
       "      <td>1966.0</td>\n",
       "      <td>2023</td>\n",
       "      <td>Tennessee</td>\n",
       "      <td>Pikeville</td>\n",
       "      <td>FINANCE AND ADMINISTRATION, TENNESSEE DEPARTME...</td>\n",
       "      <td>Illness</td>\n",
       "      <td>BJA</td>\n",
       "    </tr>\n",
       "  </tbody>\n",
       "</table>\n",
       "<p>42018 rows × 11 columns</p>\n",
       "</div>"
      ],
      "text/plain": [
       "      First_Name   Last_Name Gender                       Race  Birth_Year  \\\n",
       "0           Jose     Sanchez   Male         Hispanic or Latino      1927.0   \n",
       "1        Ernesto      Nieves   Male         Hispanic or Latino      1964.0   \n",
       "2        Francis      Soffen   Male       White (not Hispanic)      1939.0   \n",
       "3        Kenneth    Getchell   Male       White (not Hispanic)      1931.0   \n",
       "4         Alfred     Trudell   Male       White (not Hispanic)      1942.0   \n",
       "...          ...         ...    ...                        ...         ...   \n",
       "42013    Brandon  Stephenson   Male  Black or African American      1994.0   \n",
       "42014     Joseph  Bennet Jr.   Male       White (not Hispanic)      1981.0   \n",
       "42015    Anthony       Starr   Male       White (not Hispanic)      1943.0   \n",
       "42016     Joseph    Williams   Male  Black or African American      1952.0   \n",
       "42017      Kerry     Mallard   Male       White (not Hispanic)      1966.0   \n",
       "\n",
       "       Reporting_Death_Year     State_Name    City_Name  \\\n",
       "0                      2015        Wyoming   Torrington   \n",
       "1                      2015  Massachusetts  Bridgewater   \n",
       "2                      2015  Massachusetts      Shirley   \n",
       "3                      2015  Massachusetts      Shirley   \n",
       "4                      2015  Massachusetts      Shirley   \n",
       "...                     ...            ...          ...   \n",
       "42013                  2023           Ohio     COLUMBUS   \n",
       "42014                  2023           Ohio     Columbus   \n",
       "42015                  2023           Ohio      Grafton   \n",
       "42016                  2023           Ohio     COLUMBUS   \n",
       "42017                  2023      Tennessee    Pikeville   \n",
       "\n",
       "                                           Facility_Name Death_Cause Source  \n",
       "0                            Wyoming Medium Correctional     Illness    BJS  \n",
       "1                                  Bwater State Hospital     Illness    BJS  \n",
       "2                                            MCI Shirley     Illness    BJS  \n",
       "3                                            MCI Shirley     Illness    BJS  \n",
       "4                                            MCI Shirley     Illness    BJS  \n",
       "...                                                  ...         ...    ...  \n",
       "42013           Ohio Office of Criminal Justice Services     Illness    BJA  \n",
       "42014           Ohio Office of Criminal Justice Services     Illness    BJA  \n",
       "42015           Ohio Office of Criminal Justice Services     Illness    BJA  \n",
       "42016           Ohio Office of Criminal Justice Services     Illness    BJA  \n",
       "42017  FINANCE AND ADMINISTRATION, TENNESSEE DEPARTME...     Illness    BJA  \n",
       "\n",
       "[42018 rows x 11 columns]"
      ]
     },
     "execution_count": 2,
     "metadata": {},
     "output_type": "execute_result"
    }
   ],
   "source": [
    "# Ensuring Reporting_Death_Year is integer\n",
    "Merged_BJA_BJS_prison[\"Reporting_Death_Year\"] = pd.to_numeric(\n",
    "    Merged_BJA_BJS_prison[\"Reporting_Death_Year\"], errors=\"coerce\"\n",
    ").astype(\"Int64\")\n",
    "\n",
    "# Sorting by Reporting_Death_Year ascending\n",
    "Merged_BJA_BJS_prison = Merged_BJA_BJS_prison.sort_values(\n",
    "    by=\"Reporting_Death_Year\", ascending=True\n",
    ").reset_index(drop=True)\n",
    "Merged_BJA_BJS_prison"
   ]
  },
  {
   "cell_type": "code",
   "execution_count": 3,
   "id": "20387979",
   "metadata": {},
   "outputs": [
    {
     "data": {
      "application/vnd.microsoft.datawrangler.viewer.v0+json": {
       "columns": [
        {
         "name": "index",
         "rawType": "int64",
         "type": "integer"
        },
        {
         "name": "First_Name",
         "rawType": "object",
         "type": "unknown"
        },
        {
         "name": "Last_Name",
         "rawType": "object",
         "type": "unknown"
        },
        {
         "name": "Gender",
         "rawType": "object",
         "type": "unknown"
        },
        {
         "name": "Race",
         "rawType": "object",
         "type": "string"
        },
        {
         "name": "Birth_Year",
         "rawType": "Int64",
         "type": "integer"
        },
        {
         "name": "Reporting_Death_Year",
         "rawType": "Int64",
         "type": "integer"
        },
        {
         "name": "State_Name",
         "rawType": "object",
         "type": "unknown"
        },
        {
         "name": "City_Name",
         "rawType": "object",
         "type": "unknown"
        },
        {
         "name": "Facility_Name",
         "rawType": "object",
         "type": "unknown"
        },
        {
         "name": "Death_Cause",
         "rawType": "object",
         "type": "unknown"
        },
        {
         "name": "Source",
         "rawType": "object",
         "type": "string"
        }
       ],
       "ref": "fb18991b-a440-4e66-a843-510ba0612681",
       "rows": [
        [
         "0",
         "JOSE",
         "SANCHEZ",
         "MALE",
         "HISPANIC OR LATINO",
         "1927",
         "2015",
         "WYOMING",
         "TORRINGTON",
         "WYOMING MEDIUM CORRECTIONAL",
         "ILLNESS",
         "BJS"
        ],
        [
         "1",
         "ERNESTO",
         "NIEVES",
         "MALE",
         "HISPANIC OR LATINO",
         "1964",
         "2015",
         "MASSACHUSETTS",
         "BRIDGEWATER",
         "BWATER STATE HOSPITAL",
         "ILLNESS",
         "BJS"
        ],
        [
         "2",
         "FRANCIS",
         "SOFFEN",
         "MALE",
         "WHITE (NOT HISPANIC)",
         "1939",
         "2015",
         "MASSACHUSETTS",
         "SHIRLEY",
         "MCI SHIRLEY",
         "ILLNESS",
         "BJS"
        ],
        [
         "3",
         "KENNETH",
         "GETCHELL",
         "MALE",
         "WHITE (NOT HISPANIC)",
         "1931",
         "2015",
         "MASSACHUSETTS",
         "SHIRLEY",
         "MCI SHIRLEY",
         "ILLNESS",
         "BJS"
        ],
        [
         "4",
         "ALFRED",
         "TRUDELL",
         "MALE",
         "WHITE (NOT HISPANIC)",
         "1942",
         "2015",
         "MASSACHUSETTS",
         "SHIRLEY",
         "MCI SHIRLEY",
         "ILLNESS",
         "BJS"
        ],
        [
         "5",
         "EMILIAN",
         "PASZKO",
         "MALE",
         "WHITE (NOT HISPANIC)",
         "1951",
         "2015",
         "MASSACHUSETTS",
         "SHIRLEY",
         "MCI SHIRLEY",
         "ILLNESS",
         "BJS"
        ],
        [
         "6",
         "DAVID",
         "PATRIDGE",
         "MALE",
         "WHITE (NOT HISPANIC)",
         "1958",
         "2015",
         "MASSACHUSETTS",
         "SHIRLEY",
         "MCI SHIRLEY",
         "ILLNESS",
         "BJS"
        ],
        [
         "7",
         "GARY",
         "HAMPTON",
         "MALE",
         "WHITE (NOT HISPANIC)",
         "1950",
         "2015",
         "MICHIGAN",
         "MUSKEGON",
         "BROOKS CORRECTIONAL FACILITY",
         "ILLNESS",
         "BJS"
        ],
        [
         "8",
         "ROBERT",
         "HUBBARD",
         "MALE",
         "WHITE (NOT HISPANIC)",
         "1926",
         "2015",
         "MASSACHUSETTS",
         "JAMAICA PLAIN",
         "LEMUEL SHATTUCK HOSPITAL",
         "ILLNESS",
         "BJS"
        ],
        [
         "9",
         "KOSSAYAMBE",
         "ANTHONY",
         "MALE",
         "BLACK OR AFRICAN AMERICAN",
         "1969",
         "2015",
         "MICHIGAN",
         "JACKSON",
         "PARNALL CORRECTIONAL FACILITY (SMT)",
         "ILLNESS",
         "BJS"
        ],
        [
         "10",
         "RONALD",
         "CLARK",
         "MALE",
         "BLACK OR AFRICAN AMERICAN",
         "1941",
         "2015",
         "MICHIGAN",
         "JACKSON",
         "DUANE WATERS HEALTH CENTER",
         "ILLNESS",
         "BJS"
        ],
        [
         "11",
         "SANDY",
         "QUICK",
         "MALE",
         "BLACK OR AFRICAN AMERICAN",
         "1951",
         "2015",
         "MICHIGAN",
         "JACKSON",
         "DUANE WATERS HEALTH CENTER",
         "ILLNESS",
         "BJS"
        ],
        [
         "12",
         "MARCOS",
         "GOMEZ",
         "MALE",
         "HISPANIC OR LATINO",
         "1964",
         "2015",
         "MICHIGAN",
         "JACKSON",
         "DUANE WATERS HEALTH CENTER",
         "ILLNESS",
         "BJS"
        ],
        [
         "13",
         "ISAAC",
         "DREW",
         "MALE",
         "BLACK OR AFRICAN AMERICAN",
         "1962",
         "2015",
         "MICHIGAN",
         "JACKSON",
         "DUANE WATERS HEALTH CENTER",
         "ILLNESS",
         "BJS"
        ],
        [
         "14",
         "ROBERT",
         "LONEY",
         "MALE",
         "WHITE (NOT HISPANIC)",
         "1949",
         "2015",
         "MICHIGAN",
         "JACKSON",
         "DUANE WATERS HEALTH CENTER",
         "ILLNESS",
         "BJS"
        ],
        [
         "15",
         "STEVEN",
         "OSTERNOUT",
         "MALE",
         "WHITE (NOT HISPANIC)",
         "1971",
         "2015",
         "MICHIGAN",
         "BARAGA",
         "BARAGA MAXIMUM CORRECTIONAL FACILITY (AMF)",
         "SUICIDE",
         "BJS"
        ],
        [
         "16",
         "MARK",
         "BENNETT",
         "MALE",
         "WHITE (NOT HISPANIC)",
         "1963",
         "2015",
         "MICHIGAN",
         "IONIA",
         "IONIA CORRECTIONAL FACILITY (ICF)",
         "ILLNESS",
         "BJS"
        ],
        [
         "17",
         "MICHAEL",
         "KERR",
         "MALE",
         "WHITE (NOT HISPANIC)",
         "1972",
         "2015",
         "MICHIGAN",
         "JACKSON",
         "DUANE WATERS HEALTH CENTER",
         "ILLNESS",
         "BJS"
        ],
        [
         "18",
         "JIM",
         "BUI",
         "MALE",
         "ASIAN (NOT HISPANIC)",
         "1963",
         "2015",
         "MASSACHUSETTS",
         "SHIRLEY",
         "MCI SHIRLEY",
         "ILLNESS",
         "BJS"
        ],
        [
         "19",
         "COREY",
         "ANDRADE",
         "MALE",
         "BLACK OR AFRICAN AMERICAN",
         "1960",
         "2015",
         "MASSACHUSETTS",
         "BRIDGEWATER",
         "OLD COLONY CORRECTIONAL CENTER",
         null,
         "BJS"
        ],
        [
         "20",
         "JOSEPH",
         "WATSON",
         "MALE",
         "BLACK OR AFRICAN AMERICAN",
         "1934",
         "2015",
         "MASSACHUSETTS",
         "BRIDGEWATER",
         "OLD COLONY CORRECTIONAL CENTER",
         "ILLNESS",
         "BJS"
        ],
        [
         "21",
         "TYREE",
         "ECHOLS",
         "MALE",
         "BLACK OR AFRICAN AMERICAN",
         "1976",
         "2015",
         "MARYLAND",
         "WESTOVER",
         "EASTERN CORRECTIONAL INSTITUTION",
         "ILLNESS",
         "BJS"
        ],
        [
         "22",
         "EARL",
         "LAWTON",
         "MALE",
         "WHITE (NOT HISPANIC)",
         "1943",
         "2015",
         "MARYLAND",
         "CUMBERLAND",
         "WESTERN CORRECTIONAL INSTITUTION",
         "ILLNESS",
         "BJS"
        ],
        [
         "23",
         "MANUEL",
         "HIGGINS",
         "MALE",
         "BLACK OR AFRICAN AMERICAN",
         "1989",
         "2015",
         "MARYLAND",
         "CUMBERLAND",
         "NORTH BRANCH CORRECTIONAL INSTITUTION",
         "SUICIDE",
         "BJS"
        ],
        [
         "24",
         "TROY",
         "FRAZIER",
         "MALE",
         "BLACK OR AFRICAN AMERICAN",
         "1961",
         "2015",
         "MARYLAND",
         "JESSUP",
         "MARYLAND CORRECTIONAL INSTITUTION - JESSUP",
         "ILLNESS",
         "BJS"
        ],
        [
         "25",
         "JOHN",
         "PRINCE",
         "MALE",
         "BLACK OR AFRICAN AMERICAN",
         "1957",
         "2015",
         "MARYLAND",
         "JESSUP",
         "JESSUP CORRECTIONAL INSTITUTION",
         "ILLNESS",
         "BJS"
        ],
        [
         "26",
         "DOUGLAS",
         "MINCHILLO",
         "MALE",
         "WHITE (NOT HISPANIC)",
         "1959",
         "2015",
         "MARYLAND",
         "JESSUP",
         "JESSUP CORRECTIONAL INSTITUTION",
         "ILLNESS",
         "BJS"
        ],
        [
         "27",
         "RONALD",
         "ARMSTRONG",
         "MALE",
         "BLACK OR AFRICAN AMERICAN",
         "1955",
         "2015",
         "MARYLAND",
         "HAGERSTOWN",
         "MARYLAND CORRECTIONAL INSTITUTION HAGERSTWON",
         "ILLNESS",
         "BJS"
        ],
        [
         "28",
         "TIMOTHY",
         "HOWARD",
         "MALE",
         "BLACK OR AFRICAN AMERICAN",
         "1974",
         "2015",
         "MARYLAND",
         "CUMBERLAND",
         "NORTH BRANCH CORRECTIONAL INSTITUTION",
         "ACCIDENT",
         "BJS"
        ],
        [
         "29",
         "TIMONTHY",
         "ROBINSON",
         "MALE",
         "BLACK OR AFRICAN AMERICAN",
         "1962",
         "2015",
         "MARYLAND",
         "JESSUP",
         "MARYLAND CORRECTIONAL INSTITUTION JESSUP",
         "ILLNESS",
         "BJS"
        ],
        [
         "30",
         "FRANKLIN",
         "RANKIN",
         "MALE",
         "BLACK OR AFRICAN AMERICAN",
         "1949",
         "2015",
         "MARYLAND",
         "JESSUP",
         "JESSUP CORRECTIONAL INSTITUTION",
         "ILLNESS",
         "BJS"
        ],
        [
         "31",
         "DANIEL",
         "HARNEY",
         "MALE",
         "WHITE (NOT HISPANIC)",
         "1959",
         "2015",
         "MARYLAND",
         "JESSUP",
         "JESSUP CORRECTIONAL INSTITUTION",
         "ILLNESS",
         "BJS"
        ],
        [
         "32",
         "NORMAN",
         "CARROLL",
         "MALE",
         "BLACK OR AFRICAN AMERICAN",
         "1933",
         "2015",
         "MARYLAND",
         "JESSUP",
         "ROXBURY CORRECTIONAL INSTITUTION",
         "ILLNESS",
         "BJS"
        ],
        [
         "33",
         "RAY",
         "NELSON",
         "MALE",
         "BLACK OR AFRICAN AMERICAN",
         "1954",
         "2015",
         "MARYLAND",
         "HAGERSTOWN",
         "MARYLAND CORRECTIONAL TRAINING CENTER",
         "ILLNESS",
         "BJS"
        ],
        [
         "34",
         "WAYNE",
         "YOUNG",
         "MALE",
         "WHITE (NOT HISPANIC)",
         "1945",
         "2015",
         "MARYLAND",
         "JESSUP",
         "JESSUP CORRECTIONAL INSTITUTE",
         "ILLNESS",
         "BJS"
        ],
        [
         "35",
         "GILBERT",
         "BACON",
         "MALE",
         "BLACK OR AFRICAN AMERICAN",
         "1963",
         "2015",
         "MARYLAND",
         "CUMBERLAND",
         "NORTH BRANCH CORRECTIONAL INSTITUTION",
         "ILLNESS",
         "BJS"
        ],
        [
         "36",
         "AARON",
         "HARRIS",
         "MALE",
         "BLACK OR AFRICAN AMERICAN",
         "1961",
         "2015",
         "MARYLAND",
         "BALTIMORE",
         "BALTIMORE CITY CORRECTIONAL CENTER",
         "ILLNESS",
         "BJS"
        ],
        [
         "37",
         "HERBERT",
         "WEARE",
         "MALE",
         "WHITE (NOT HISPANIC)",
         "1955",
         "2015",
         "MARYLAND",
         "HAGERSTOWN",
         "MARYLAND CORRECTIONAL INSTITUTION HAGERSTOWN",
         "ILLNESS",
         "BJS"
        ],
        [
         "38",
         "GEORGE",
         "BILLUPS",
         "MALE",
         "BLACK OR AFRICAN AMERICAN",
         "1952",
         "2015",
         "MICHIGAN",
         "JACKSON",
         "DUANE WATERS HEALTH CENTER",
         "ILLNESS",
         "BJS"
        ],
        [
         "39",
         "FRANK",
         "SMITH",
         "MALE",
         "WHITE (NOT HISPANIC)",
         "1957",
         "2015",
         "MICHIGAN",
         "COLDWATER",
         "LAKELAND CORRECTIONAL FACILITY",
         "ILLNESS",
         "BJS"
        ],
        [
         "40",
         "JANIKA",
         "EDMOND",
         "FEMALE",
         "BLACK OR AFRICAN AMERICAN",
         "1990",
         "2015",
         "MICHIGAN",
         "YPSILANTI",
         "WOMENS HURON VALLEY",
         "SUICIDE",
         "BJS"
        ],
        [
         "41",
         "ALFRED",
         "EVANS",
         "MALE",
         "WHITE (NOT HISPANIC)",
         "1942",
         "2015",
         "MICHIGAN",
         "COLDWATER",
         "LAKELAND CORRECTIONAL FACILITY",
         "ILLNESS",
         "BJS"
        ],
        [
         "42",
         "THONG",
         "VANG",
         "MALE",
         "ASIAN (NOT HISPANIC)",
         "1980",
         "2015",
         "MINNESOTA",
         "STILLWATER",
         "MINNESOTA CORRECTIONAL FACILITY-OAK PARK HEIGHTS",
         "ILLNESS",
         "BJS"
        ],
        [
         "43",
         "EARL",
         "REEVES",
         "MALE",
         "BLACK OR AFRICAN AMERICAN",
         "1957",
         "2015",
         "MISSISSIPPI",
         "PARCHMAN",
         "MSP",
         "ILLNESS",
         "BJS"
        ],
        [
         "44",
         "CLIFTON",
         "WILLIAMS",
         "MALE",
         "BLACK OR AFRICAN AMERICAN",
         "1978",
         "2015",
         "MISSISSIPPI",
         "PARCHMAN",
         "MSP",
         "ILLNESS",
         "BJS"
        ],
        [
         "45",
         "BILLY",
         "POYNER",
         "MALE",
         "WHITE (NOT HISPANIC)",
         "1953",
         "2015",
         "MISSISSIPPI",
         "PARCHMAN",
         "MSP",
         "ILLNESS",
         "BJS"
        ],
        [
         "46",
         "VINCENT",
         "YUCAITIS",
         "MALE",
         "WHITE (NOT HISPANIC)",
         "1962",
         "2015",
         "MISSISSIPPI",
         "PARCHMAN",
         "MSP",
         null,
         "BJS"
        ],
        [
         "47",
         "CHARLES",
         "GLOVER",
         "MALE",
         "BLACK OR AFRICAN AMERICAN",
         "1941",
         "2015",
         "MISSISSIPPI",
         "PARCHMAN",
         "MSP",
         "ILLNESS",
         "BJS"
        ],
        [
         "48",
         "WILLIAM",
         "HESTER",
         "MALE",
         "WHITE (NOT HISPANIC)",
         "1944",
         "2015",
         "MISSISSIPPI",
         "LEAKESVILLE",
         "SMCI",
         "ILLNESS",
         "BJS"
        ],
        [
         "49",
         "RICKY",
         "FLANNIGAN",
         "MALE",
         "WHITE (NOT HISPANIC)",
         "1966",
         "2015",
         "MISSISSIPPI",
         "PARCHMAN",
         "MSP",
         "ILLNESS",
         "BJS"
        ]
       ],
       "shape": {
        "columns": 11,
        "rows": 42018
       }
      },
      "text/html": [
       "<div>\n",
       "<style scoped>\n",
       "    .dataframe tbody tr th:only-of-type {\n",
       "        vertical-align: middle;\n",
       "    }\n",
       "\n",
       "    .dataframe tbody tr th {\n",
       "        vertical-align: top;\n",
       "    }\n",
       "\n",
       "    .dataframe thead th {\n",
       "        text-align: right;\n",
       "    }\n",
       "</style>\n",
       "<table border=\"1\" class=\"dataframe\">\n",
       "  <thead>\n",
       "    <tr style=\"text-align: right;\">\n",
       "      <th></th>\n",
       "      <th>First_Name</th>\n",
       "      <th>Last_Name</th>\n",
       "      <th>Gender</th>\n",
       "      <th>Race</th>\n",
       "      <th>Birth_Year</th>\n",
       "      <th>Reporting_Death_Year</th>\n",
       "      <th>State_Name</th>\n",
       "      <th>City_Name</th>\n",
       "      <th>Facility_Name</th>\n",
       "      <th>Death_Cause</th>\n",
       "      <th>Source</th>\n",
       "    </tr>\n",
       "  </thead>\n",
       "  <tbody>\n",
       "    <tr>\n",
       "      <th>0</th>\n",
       "      <td>JOSE</td>\n",
       "      <td>SANCHEZ</td>\n",
       "      <td>MALE</td>\n",
       "      <td>HISPANIC OR LATINO</td>\n",
       "      <td>1927</td>\n",
       "      <td>2015</td>\n",
       "      <td>WYOMING</td>\n",
       "      <td>TORRINGTON</td>\n",
       "      <td>WYOMING MEDIUM CORRECTIONAL</td>\n",
       "      <td>ILLNESS</td>\n",
       "      <td>BJS</td>\n",
       "    </tr>\n",
       "    <tr>\n",
       "      <th>1</th>\n",
       "      <td>ERNESTO</td>\n",
       "      <td>NIEVES</td>\n",
       "      <td>MALE</td>\n",
       "      <td>HISPANIC OR LATINO</td>\n",
       "      <td>1964</td>\n",
       "      <td>2015</td>\n",
       "      <td>MASSACHUSETTS</td>\n",
       "      <td>BRIDGEWATER</td>\n",
       "      <td>BWATER STATE HOSPITAL</td>\n",
       "      <td>ILLNESS</td>\n",
       "      <td>BJS</td>\n",
       "    </tr>\n",
       "    <tr>\n",
       "      <th>2</th>\n",
       "      <td>FRANCIS</td>\n",
       "      <td>SOFFEN</td>\n",
       "      <td>MALE</td>\n",
       "      <td>WHITE (NOT HISPANIC)</td>\n",
       "      <td>1939</td>\n",
       "      <td>2015</td>\n",
       "      <td>MASSACHUSETTS</td>\n",
       "      <td>SHIRLEY</td>\n",
       "      <td>MCI SHIRLEY</td>\n",
       "      <td>ILLNESS</td>\n",
       "      <td>BJS</td>\n",
       "    </tr>\n",
       "    <tr>\n",
       "      <th>3</th>\n",
       "      <td>KENNETH</td>\n",
       "      <td>GETCHELL</td>\n",
       "      <td>MALE</td>\n",
       "      <td>WHITE (NOT HISPANIC)</td>\n",
       "      <td>1931</td>\n",
       "      <td>2015</td>\n",
       "      <td>MASSACHUSETTS</td>\n",
       "      <td>SHIRLEY</td>\n",
       "      <td>MCI SHIRLEY</td>\n",
       "      <td>ILLNESS</td>\n",
       "      <td>BJS</td>\n",
       "    </tr>\n",
       "    <tr>\n",
       "      <th>4</th>\n",
       "      <td>ALFRED</td>\n",
       "      <td>TRUDELL</td>\n",
       "      <td>MALE</td>\n",
       "      <td>WHITE (NOT HISPANIC)</td>\n",
       "      <td>1942</td>\n",
       "      <td>2015</td>\n",
       "      <td>MASSACHUSETTS</td>\n",
       "      <td>SHIRLEY</td>\n",
       "      <td>MCI SHIRLEY</td>\n",
       "      <td>ILLNESS</td>\n",
       "      <td>BJS</td>\n",
       "    </tr>\n",
       "    <tr>\n",
       "      <th>...</th>\n",
       "      <td>...</td>\n",
       "      <td>...</td>\n",
       "      <td>...</td>\n",
       "      <td>...</td>\n",
       "      <td>...</td>\n",
       "      <td>...</td>\n",
       "      <td>...</td>\n",
       "      <td>...</td>\n",
       "      <td>...</td>\n",
       "      <td>...</td>\n",
       "      <td>...</td>\n",
       "    </tr>\n",
       "    <tr>\n",
       "      <th>42013</th>\n",
       "      <td>BRANDON</td>\n",
       "      <td>STEPHENSON</td>\n",
       "      <td>MALE</td>\n",
       "      <td>BLACK OR AFRICAN AMERICAN</td>\n",
       "      <td>1994</td>\n",
       "      <td>2023</td>\n",
       "      <td>OHIO</td>\n",
       "      <td>COLUMBUS</td>\n",
       "      <td>OHIO OFFICE OF CRIMINAL JUSTICE SERVICES</td>\n",
       "      <td>ILLNESS</td>\n",
       "      <td>BJA</td>\n",
       "    </tr>\n",
       "    <tr>\n",
       "      <th>42014</th>\n",
       "      <td>JOSEPH</td>\n",
       "      <td>BENNET JR.</td>\n",
       "      <td>MALE</td>\n",
       "      <td>WHITE (NOT HISPANIC)</td>\n",
       "      <td>1981</td>\n",
       "      <td>2023</td>\n",
       "      <td>OHIO</td>\n",
       "      <td>COLUMBUS</td>\n",
       "      <td>OHIO OFFICE OF CRIMINAL JUSTICE SERVICES</td>\n",
       "      <td>ILLNESS</td>\n",
       "      <td>BJA</td>\n",
       "    </tr>\n",
       "    <tr>\n",
       "      <th>42015</th>\n",
       "      <td>ANTHONY</td>\n",
       "      <td>STARR</td>\n",
       "      <td>MALE</td>\n",
       "      <td>WHITE (NOT HISPANIC)</td>\n",
       "      <td>1943</td>\n",
       "      <td>2023</td>\n",
       "      <td>OHIO</td>\n",
       "      <td>GRAFTON</td>\n",
       "      <td>OHIO OFFICE OF CRIMINAL JUSTICE SERVICES</td>\n",
       "      <td>ILLNESS</td>\n",
       "      <td>BJA</td>\n",
       "    </tr>\n",
       "    <tr>\n",
       "      <th>42016</th>\n",
       "      <td>JOSEPH</td>\n",
       "      <td>WILLIAMS</td>\n",
       "      <td>MALE</td>\n",
       "      <td>BLACK OR AFRICAN AMERICAN</td>\n",
       "      <td>1952</td>\n",
       "      <td>2023</td>\n",
       "      <td>OHIO</td>\n",
       "      <td>COLUMBUS</td>\n",
       "      <td>OHIO OFFICE OF CRIMINAL JUSTICE SERVICES</td>\n",
       "      <td>ILLNESS</td>\n",
       "      <td>BJA</td>\n",
       "    </tr>\n",
       "    <tr>\n",
       "      <th>42017</th>\n",
       "      <td>KERRY</td>\n",
       "      <td>MALLARD</td>\n",
       "      <td>MALE</td>\n",
       "      <td>WHITE (NOT HISPANIC)</td>\n",
       "      <td>1966</td>\n",
       "      <td>2023</td>\n",
       "      <td>TENNESSEE</td>\n",
       "      <td>PIKEVILLE</td>\n",
       "      <td>FINANCE AND ADMINISTRATION, TENNESSEE DEPARTME...</td>\n",
       "      <td>ILLNESS</td>\n",
       "      <td>BJA</td>\n",
       "    </tr>\n",
       "  </tbody>\n",
       "</table>\n",
       "<p>42018 rows × 11 columns</p>\n",
       "</div>"
      ],
      "text/plain": [
       "      First_Name   Last_Name Gender                       Race  Birth_Year  \\\n",
       "0           JOSE     SANCHEZ   MALE         HISPANIC OR LATINO        1927   \n",
       "1        ERNESTO      NIEVES   MALE         HISPANIC OR LATINO        1964   \n",
       "2        FRANCIS      SOFFEN   MALE       WHITE (NOT HISPANIC)        1939   \n",
       "3        KENNETH    GETCHELL   MALE       WHITE (NOT HISPANIC)        1931   \n",
       "4         ALFRED     TRUDELL   MALE       WHITE (NOT HISPANIC)        1942   \n",
       "...          ...         ...    ...                        ...         ...   \n",
       "42013    BRANDON  STEPHENSON   MALE  BLACK OR AFRICAN AMERICAN        1994   \n",
       "42014     JOSEPH  BENNET JR.   MALE       WHITE (NOT HISPANIC)        1981   \n",
       "42015    ANTHONY       STARR   MALE       WHITE (NOT HISPANIC)        1943   \n",
       "42016     JOSEPH    WILLIAMS   MALE  BLACK OR AFRICAN AMERICAN        1952   \n",
       "42017      KERRY     MALLARD   MALE       WHITE (NOT HISPANIC)        1966   \n",
       "\n",
       "       Reporting_Death_Year     State_Name    City_Name  \\\n",
       "0                      2015        WYOMING   TORRINGTON   \n",
       "1                      2015  MASSACHUSETTS  BRIDGEWATER   \n",
       "2                      2015  MASSACHUSETTS      SHIRLEY   \n",
       "3                      2015  MASSACHUSETTS      SHIRLEY   \n",
       "4                      2015  MASSACHUSETTS      SHIRLEY   \n",
       "...                     ...            ...          ...   \n",
       "42013                  2023           OHIO     COLUMBUS   \n",
       "42014                  2023           OHIO     COLUMBUS   \n",
       "42015                  2023           OHIO      GRAFTON   \n",
       "42016                  2023           OHIO     COLUMBUS   \n",
       "42017                  2023      TENNESSEE    PIKEVILLE   \n",
       "\n",
       "                                           Facility_Name Death_Cause Source  \n",
       "0                            WYOMING MEDIUM CORRECTIONAL     ILLNESS    BJS  \n",
       "1                                  BWATER STATE HOSPITAL     ILLNESS    BJS  \n",
       "2                                            MCI SHIRLEY     ILLNESS    BJS  \n",
       "3                                            MCI SHIRLEY     ILLNESS    BJS  \n",
       "4                                            MCI SHIRLEY     ILLNESS    BJS  \n",
       "...                                                  ...         ...    ...  \n",
       "42013           OHIO OFFICE OF CRIMINAL JUSTICE SERVICES     ILLNESS    BJA  \n",
       "42014           OHIO OFFICE OF CRIMINAL JUSTICE SERVICES     ILLNESS    BJA  \n",
       "42015           OHIO OFFICE OF CRIMINAL JUSTICE SERVICES     ILLNESS    BJA  \n",
       "42016           OHIO OFFICE OF CRIMINAL JUSTICE SERVICES     ILLNESS    BJA  \n",
       "42017  FINANCE AND ADMINISTRATION, TENNESSEE DEPARTME...     ILLNESS    BJA  \n",
       "\n",
       "[42018 rows x 11 columns]"
      ]
     },
     "execution_count": 3,
     "metadata": {},
     "output_type": "execute_result"
    }
   ],
   "source": [
    "# Uppercasing all string values (rows) but keep column names intact\n",
    "for col in Merged_BJA_BJS_prison.select_dtypes(include=[\"object\"]).columns:\n",
    "    Merged_BJA_BJS_prison[col] = Merged_BJA_BJS_prison[col].str.upper()\n",
    "\n",
    "# Ensuring Birth_Year is integer\n",
    "Merged_BJA_BJS_prison[\"Birth_Year\"] = pd.to_numeric(\n",
    "    Merged_BJA_BJS_prison[\"Birth_Year\"], errors=\"coerce\"\n",
    ").astype(\"Int64\")\n",
    "Merged_BJA_BJS_prison\n",
    "\n",
    "# Saving the final updated dataset\n",
    "# output_path = \"Merged_BJA_BJS_prison.csv\"\n",
    "# Merged_BJA_BJS_prison.to_csv(output_path, index=False)\n",
    "# print(f\"Final dataset saved to: {output_path}\")"
   ]
  },
  {
   "cell_type": "code",
   "execution_count": 4,
   "id": "41c5e347",
   "metadata": {},
   "outputs": [
    {
     "name": "stdout",
     "output_type": "stream",
     "text": [
      "Total records: 42018\n",
      "Unique records: 41978\n",
      "Duplicate records: 40\n"
     ]
    }
   ],
   "source": [
    "# Total number of records\n",
    "total_records = len(Merged_BJA_BJS_prison)\n",
    "\n",
    "# Number of unique records (across all columns)\n",
    "unique_records = len(Merged_BJA_BJS_prison.drop_duplicates())\n",
    "\n",
    "# Number of duplicate records\n",
    "duplicate_records = total_records - unique_records\n",
    "\n",
    "print(f\"Total records: {total_records}\")\n",
    "print(f\"Unique records: {unique_records}\")\n",
    "print(f\"Duplicate records: {duplicate_records}\")"
   ]
  },
  {
   "cell_type": "code",
   "execution_count": 5,
   "id": "2019a124",
   "metadata": {},
   "outputs": [
    {
     "data": {
      "application/vnd.microsoft.datawrangler.viewer.v0+json": {
       "columns": [
        {
         "name": "index",
         "rawType": "int64",
         "type": "integer"
        },
        {
         "name": "First_Name",
         "rawType": "object",
         "type": "string"
        },
        {
         "name": "Last_Name",
         "rawType": "object",
         "type": "string"
        },
        {
         "name": "Gender",
         "rawType": "object",
         "type": "string"
        },
        {
         "name": "Race",
         "rawType": "object",
         "type": "string"
        },
        {
         "name": "Birth_Year",
         "rawType": "Int64",
         "type": "integer"
        },
        {
         "name": "Reporting_Death_Year",
         "rawType": "Int64",
         "type": "integer"
        },
        {
         "name": "State_Name",
         "rawType": "object",
         "type": "string"
        },
        {
         "name": "City_Name",
         "rawType": "object",
         "type": "string"
        },
        {
         "name": "Facility_Name",
         "rawType": "object",
         "type": "string"
        },
        {
         "name": "Death_Cause",
         "rawType": "object",
         "type": "string"
        },
        {
         "name": "Source",
         "rawType": "object",
         "type": "string"
        }
       ],
       "ref": "65bb4c67-905c-405f-a833-7bb4ad921ed7",
       "rows": [
        [
         "16683",
         "LARRY",
         "MUKES",
         "MALE",
         "BLACK OR AFRICAN AMERICAN",
         "1974",
         "2020",
         "TEXAS",
         "HUMBLE",
         "GOVERNOR, TEXAS OFFICE OF THE",
         "SUICIDE",
         "BJA"
        ],
        [
         "16722",
         "LARRY",
         "MUKES",
         "MALE",
         "BLACK OR AFRICAN AMERICAN",
         "1974",
         "2020",
         "TEXAS",
         "HUMBLE",
         "GOVERNOR, TEXAS OFFICE OF THE",
         "SUICIDE",
         "BJA"
        ],
        [
         "20196",
         "LEE",
         "CREELY",
         "MALE",
         "WHITE (NOT HISPANIC)",
         "1986",
         "2020",
         "GEORGIA",
         "SAVANNAH",
         "CRIMINAL JUSTICE COORDINATING COUNCIL",
         "ACCIDENT",
         "BJA"
        ],
        [
         "21385",
         "LEE",
         "CREELY",
         "MALE",
         "WHITE (NOT HISPANIC)",
         "1986",
         "2020",
         "GEORGIA",
         "SAVANNAH",
         "CRIMINAL JUSTICE COORDINATING COUNCIL",
         "ACCIDENT",
         "BJA"
        ],
        [
         "22663",
         "BRUCE",
         "LESLIE",
         "MALE",
         "WHITE (NOT HISPANIC)",
         "1952",
         "2021",
         "WYOMING",
         "TORRINGTON",
         "ATTORNEY GENERAL OF WYOMING",
         "ILLNESS",
         "BJA"
        ],
        [
         "22666",
         "BRUCE",
         "LESLIE",
         "MALE",
         "WHITE (NOT HISPANIC)",
         "1952",
         "2021",
         "WYOMING",
         "TORRINGTON",
         "ATTORNEY GENERAL OF WYOMING",
         "ILLNESS",
         "BJA"
        ],
        [
         "24480",
         "STEVEN",
         "RUDOLPH",
         "MALE",
         "WHITE (NOT HISPANIC)",
         "1971",
         "2021",
         "LOUISIANA",
         "COVINGTON",
         "LOUISIANA COMMISSION ON LAW ENFORCEMENT AND ADMINISTRATION OF CRIMINAL JUSTICE",
         "SUICIDE",
         "BJA"
        ],
        [
         "24499",
         "MELVIN",
         "GRAHAM",
         "MALE",
         "WHITE (NOT HISPANIC)",
         "1960",
         "2021",
         "LOUISIANA",
         "HOMER",
         "LOUISIANA COMMISSION ON LAW ENFORCEMENT AND ADMINISTRATION OF CRIMINAL JUSTICE",
         "ILLNESS",
         "BJA"
        ],
        [
         "24556",
         "WILLIAM",
         "DICKERSON",
         "MALE",
         "WHITE (NOT HISPANIC)",
         "1943",
         "2021",
         "LOUISIANA",
         "ANGOLA",
         "LOUISIANA COMMISSION ON LAW ENFORCEMENT AND ADMINISTRATION OF CRIMINAL JUSTICE",
         "OTHER",
         "BJA"
        ],
        [
         "24557",
         "WILLIAM",
         "DICKERSON",
         "MALE",
         "WHITE (NOT HISPANIC)",
         "1943",
         "2021",
         "LOUISIANA",
         "ANGOLA",
         "LOUISIANA COMMISSION ON LAW ENFORCEMENT AND ADMINISTRATION OF CRIMINAL JUSTICE",
         "OTHER",
         "BJA"
        ],
        [
         "24617",
         "ROY",
         "ROBERTS",
         "MALE",
         "WHITE (NOT HISPANIC)",
         "1954",
         "2021",
         "LOUISIANA",
         "ANGOLA",
         "LOUISIANA COMMISSION ON LAW ENFORCEMENT AND ADMINISTRATION OF CRIMINAL JUSTICE",
         "ILLNESS",
         "BJA"
        ],
        [
         "24633",
         "ROY",
         "ROBERTS",
         "MALE",
         "WHITE (NOT HISPANIC)",
         "1954",
         "2021",
         "LOUISIANA",
         "ANGOLA",
         "LOUISIANA COMMISSION ON LAW ENFORCEMENT AND ADMINISTRATION OF CRIMINAL JUSTICE",
         "ILLNESS",
         "BJA"
        ],
        [
         "26182",
         "CHRISTOPHER",
         "ASH",
         "MALE",
         "WHITE (NOT HISPANIC)",
         "1978",
         "2021",
         "MICHIGAN",
         "COLDWATER",
         "DEPARTMENT OF STATE POLICE MICHIGAN",
         "SUICIDE",
         "BJA"
        ],
        [
         "26186",
         "CHRISTOPHER",
         "ASH",
         "MALE",
         "WHITE (NOT HISPANIC)",
         "1978",
         "2021",
         "MICHIGAN",
         "COLDWATER",
         "DEPARTMENT OF STATE POLICE MICHIGAN",
         "SUICIDE",
         "BJA"
        ],
        [
         "26824",
         "NATHAN",
         "JAMES",
         "MALE",
         "BLACK OR AFRICAN AMERICAN",
         "1996",
         "2021",
         "TEXAS",
         "DALLAS",
         "GOVERNOR, TEXAS OFFICE OF THE",
         "SUICIDE",
         "BJA"
        ],
        [
         "26832",
         "NATHAN",
         "JAMES",
         "MALE",
         "BLACK OR AFRICAN AMERICAN",
         "1996",
         "2021",
         "TEXAS",
         "DALLAS",
         "GOVERNOR, TEXAS OFFICE OF THE",
         "SUICIDE",
         "BJA"
        ],
        [
         "26910",
         "ROLAND",
         "REYES",
         "MALE",
         "NOT KNOWN",
         "1993",
         "2021",
         "ARIZONA",
         "PHOENIX",
         "CRIMINAL JUSTICE COMMISSION ARIZONA",
         "USE OF FORCE",
         "BJA"
        ],
        [
         "27150",
         "ROLAND",
         "REYES",
         "MALE",
         "NOT KNOWN",
         "1993",
         "2021",
         "ARIZONA",
         "PHOENIX",
         "CRIMINAL JUSTICE COMMISSION ARIZONA",
         "USE OF FORCE",
         "BJA"
        ],
        [
         "27711",
         "JEWEL",
         "MCGEE",
         "MALE",
         "BLACK OR AFRICAN AMERICAN",
         "1964",
         "2021",
         "TEXAS",
         "TENNESSEE COLONY",
         "GOVERNOR, TEXAS OFFICE OF THE",
         "UNAVAILABLE, INVESTIGATION PENDING",
         "BJA"
        ],
        [
         "27715",
         "JEWEL",
         "MCGEE",
         "MALE",
         "BLACK OR AFRICAN AMERICAN",
         "1964",
         "2021",
         "TEXAS",
         "TENNESSEE COLONY",
         "GOVERNOR, TEXAS OFFICE OF THE",
         "UNAVAILABLE, INVESTIGATION PENDING",
         "BJA"
        ],
        [
         "28005",
         "SILAS",
         "ANTOINE",
         "MALE",
         "BLACK OR AFRICAN AMERICAN",
         "1980",
         "2021",
         "LOUISIANA",
         "ANGOLA",
         "LOUISIANA COMMISSION ON LAW ENFORCEMENT AND ADMINISTRATION OF CRIMINAL JUSTICE",
         "ILLNESS",
         "BJA"
        ],
        [
         "28006",
         "SILAS",
         "ANTOINE",
         "MALE",
         "BLACK OR AFRICAN AMERICAN",
         "1980",
         "2021",
         "LOUISIANA",
         "ANGOLA",
         "LOUISIANA COMMISSION ON LAW ENFORCEMENT AND ADMINISTRATION OF CRIMINAL JUSTICE",
         "ILLNESS",
         "BJA"
        ],
        [
         "28325",
         "MELVIN",
         "GRAHAM",
         "MALE",
         "WHITE (NOT HISPANIC)",
         "1960",
         "2021",
         "LOUISIANA",
         "HOMER",
         "LOUISIANA COMMISSION ON LAW ENFORCEMENT AND ADMINISTRATION OF CRIMINAL JUSTICE",
         "ILLNESS",
         "BJA"
        ],
        [
         "28329",
         "DANIEL",
         "PASTOREK",
         "MALE",
         "WHITE (NOT HISPANIC)",
         "1957",
         "2021",
         "PENNSYLVANIA",
         "PITTSBURGH",
         "CRIME & DELINQUENCY PA COMMISSION ON",
         "ILLNESS",
         "BJA"
        ],
        [
         "28331",
         "DANIEL",
         "PASTOREK",
         "MALE",
         "WHITE (NOT HISPANIC)",
         "1957",
         "2021",
         "PENNSYLVANIA",
         "PITTSBURGH",
         "CRIME & DELINQUENCY PA COMMISSION ON",
         "ILLNESS",
         "BJA"
        ],
        [
         "29157",
         "STEVEN",
         "RUDOLPH",
         "MALE",
         "WHITE (NOT HISPANIC)",
         "1971",
         "2021",
         "LOUISIANA",
         "COVINGTON",
         "LOUISIANA COMMISSION ON LAW ENFORCEMENT AND ADMINISTRATION OF CRIMINAL JUSTICE",
         "SUICIDE",
         "BJA"
        ],
        [
         "30247",
         "SETH",
         "PHELPS",
         "MALE",
         "WHITE (NOT HISPANIC)",
         "1986",
         "2022",
         "MONTANA",
         "DEER LODGE",
         "MONTANA BOARD OF CRIME CONTROL",
         "ILLNESS",
         "BJA"
        ],
        [
         "30259",
         "JOHN",
         "SHURTLIFF",
         "MALE",
         "WHITE (NOT HISPANIC)",
         "1968",
         "2022",
         "MONTANA",
         "DEER LODGE",
         "MONTANA BOARD OF CRIME CONTROL",
         "SUICIDE",
         "BJA"
        ],
        [
         "30272",
         "ALVIN",
         "LEE",
         "MALE",
         "WHITE (NOT HISPANIC)",
         "1949",
         "2022",
         "MONTANA",
         "DEER LODGE",
         "MONTANA BOARD OF CRIME CONTROL",
         "ILLNESS",
         "BJA"
        ],
        [
         "30278",
         "JOHN",
         "SHURTLIFF",
         "MALE",
         "WHITE (NOT HISPANIC)",
         "1968",
         "2022",
         "MONTANA",
         "DEER LODGE",
         "MONTANA BOARD OF CRIME CONTROL",
         "SUICIDE",
         "BJA"
        ],
        [
         "30279",
         "SETH",
         "PHELPS",
         "MALE",
         "WHITE (NOT HISPANIC)",
         "1986",
         "2022",
         "MONTANA",
         "DEER LODGE",
         "MONTANA BOARD OF CRIME CONTROL",
         "ILLNESS",
         "BJA"
        ],
        [
         "30280",
         "ALVIN",
         "LEE",
         "MALE",
         "WHITE (NOT HISPANIC)",
         "1949",
         "2022",
         "MONTANA",
         "DEER LODGE",
         "MONTANA BOARD OF CRIME CONTROL",
         "ILLNESS",
         "BJA"
        ],
        [
         "30515",
         "HENRY",
         "DUNCAN",
         "MALE",
         "WHITE (NOT HISPANIC)",
         "1978",
         "2022",
         "NORTH CAROLINA",
         "WILMINGTON",
         "NORTH CAROLINA DEPARTMENT OF PUBLIC SAFETY",
         "USE OF FORCE",
         "BJA"
        ],
        [
         "30516",
         "HENRY",
         "DUNCAN",
         "MALE",
         "WHITE (NOT HISPANIC)",
         "1978",
         "2022",
         "NORTH CAROLINA",
         "WILMINGTON",
         "NORTH CAROLINA DEPARTMENT OF PUBLIC SAFETY",
         "USE OF FORCE",
         "BJA"
        ],
        [
         "31344",
         "SEAN",
         "GAYLORD",
         "MALE",
         "WHITE (NOT HISPANIC)",
         "1999",
         "2022",
         "IOWA",
         "DAVENPORT",
         "DEPT OF PUB SAFETY",
         "SUICIDE",
         "BJA"
        ],
        [
         "31345",
         "SEAN",
         "GAYLORD",
         "MALE",
         "WHITE (NOT HISPANIC)",
         "1999",
         "2022",
         "IOWA",
         "DAVENPORT",
         "DEPT OF PUB SAFETY",
         "SUICIDE",
         "BJA"
        ],
        [
         "31378",
         "ANDREW",
         "CHANDLER",
         "MALE",
         "WHITE (NOT HISPANIC)",
         "1995",
         "2022",
         "GEORGIA",
         "BUFORD",
         "CRIMINAL JUSTICE COORDINATING COUNCIL",
         "OTHER",
         "BJA"
        ],
        [
         "31396",
         "ANDREW",
         "CHANDLER",
         "MALE",
         "WHITE (NOT HISPANIC)",
         "1995",
         "2022",
         "GEORGIA",
         "BUFORD",
         "CRIMINAL JUSTICE COORDINATING COUNCIL",
         "OTHER",
         "BJA"
        ],
        [
         "31464",
         "UNKNOWN",
         "UNKNOWN",
         "MALE",
         "BLACK OR AFRICAN AMERICAN",
         null,
         "2022",
         "ILLINOIS",
         "UNKNOWN",
         "ILLINOIS CRIMINAL JUSTICE INFORMATION AUTHORITY",
         "USE OF FORCE",
         "BJA"
        ],
        [
         "31471",
         "UNKNOWN",
         "UNKNOWN",
         "MALE",
         "BLACK OR AFRICAN AMERICAN",
         null,
         "2022",
         "ILLINOIS",
         "UNKNOWN",
         "ILLINOIS CRIMINAL JUSTICE INFORMATION AUTHORITY",
         "USE OF FORCE",
         "BJA"
        ],
        [
         "31491",
         "UNKNOWN",
         "UNKNOWN",
         "MALE",
         "BLACK OR AFRICAN AMERICAN",
         null,
         "2022",
         "ILLINOIS",
         "UNKNOWN",
         "ILLINOIS CRIMINAL JUSTICE INFORMATION AUTHORITY",
         "UNAVAILABLE, INVESTIGATION PENDING",
         "BJA"
        ],
        [
         "31508",
         "UNKNOWN",
         "UNKNOWN",
         "MALE",
         "BLACK OR AFRICAN AMERICAN",
         null,
         "2022",
         "ILLINOIS",
         "UNKNOWN",
         "ILLINOIS CRIMINAL JUSTICE INFORMATION AUTHORITY",
         "UNAVAILABLE, INVESTIGATION PENDING",
         "BJA"
        ],
        [
         "31553",
         "JERRY",
         "MCBRIDE",
         "MALE",
         "WHITE (NOT HISPANIC)",
         "1948",
         "2022",
         "GEORGIA",
         "ATLANTA",
         "CRIMINAL JUSTICE COORDINATING COUNCIL",
         "ILLNESS",
         "BJA"
        ],
        [
         "31631",
         "UNKNOWN",
         "UNKNOWN",
         "MALE",
         "WHITE (NOT HISPANIC)",
         null,
         "2022",
         "ILLINOIS",
         "UNKNOWN",
         "ILLINOIS CRIMINAL JUSTICE INFORMATION AUTHORITY",
         "SUICIDE",
         "BJA"
        ],
        [
         "31715",
         "UNKNOWN",
         "UNKNOWN",
         "MALE",
         "WHITE (NOT HISPANIC)",
         null,
         "2022",
         "ILLINOIS",
         "UNKNOWN",
         "ILLINOIS CRIMINAL JUSTICE INFORMATION AUTHORITY",
         "SUICIDE",
         "BJA"
        ],
        [
         "31716",
         "UNKNOWN",
         "UNKNOWN",
         "MALE",
         "WHITE (NOT HISPANIC)",
         null,
         "2022",
         "ILLINOIS",
         "UNKNOWN",
         "ILLINOIS CRIMINAL JUSTICE INFORMATION AUTHORITY",
         "SUICIDE",
         "BJA"
        ],
        [
         "31739",
         "UNKNOWN",
         "UNKNOWN",
         "MALE",
         "WHITE (NOT HISPANIC)",
         null,
         "2022",
         "ILLINOIS",
         "UNKNOWN",
         "ILLINOIS CRIMINAL JUSTICE INFORMATION AUTHORITY",
         "UNAVAILABLE, INVESTIGATION PENDING",
         "BJA"
        ],
        [
         "31740",
         "UNKNOWN",
         "UNKNOWN",
         "MALE",
         "WHITE (NOT HISPANIC)",
         null,
         "2022",
         "ILLINOIS",
         "UNKNOWN",
         "ILLINOIS CRIMINAL JUSTICE INFORMATION AUTHORITY",
         "UNAVAILABLE, INVESTIGATION PENDING",
         "BJA"
        ],
        [
         "31747",
         "UNKNOWN",
         "UNKNOWN",
         "MALE",
         "WHITE (NOT HISPANIC)",
         null,
         "2022",
         "ILLINOIS",
         "UNKNOWN",
         "ILLINOIS CRIMINAL JUSTICE INFORMATION AUTHORITY",
         "UNAVAILABLE, INVESTIGATION PENDING",
         "BJA"
        ],
        [
         "31765",
         "UNKNOWN",
         "UNKNOWN",
         "MALE",
         "WHITE (NOT HISPANIC)",
         null,
         "2022",
         "ILLINOIS",
         "UNKNOWN",
         "ILLINOIS CRIMINAL JUSTICE INFORMATION AUTHORITY",
         "UNAVAILABLE, INVESTIGATION PENDING",
         "BJA"
        ]
       ],
       "shape": {
        "columns": 11,
        "rows": 72
       }
      },
      "text/html": [
       "<div>\n",
       "<style scoped>\n",
       "    .dataframe tbody tr th:only-of-type {\n",
       "        vertical-align: middle;\n",
       "    }\n",
       "\n",
       "    .dataframe tbody tr th {\n",
       "        vertical-align: top;\n",
       "    }\n",
       "\n",
       "    .dataframe thead th {\n",
       "        text-align: right;\n",
       "    }\n",
       "</style>\n",
       "<table border=\"1\" class=\"dataframe\">\n",
       "  <thead>\n",
       "    <tr style=\"text-align: right;\">\n",
       "      <th></th>\n",
       "      <th>First_Name</th>\n",
       "      <th>Last_Name</th>\n",
       "      <th>Gender</th>\n",
       "      <th>Race</th>\n",
       "      <th>Birth_Year</th>\n",
       "      <th>Reporting_Death_Year</th>\n",
       "      <th>State_Name</th>\n",
       "      <th>City_Name</th>\n",
       "      <th>Facility_Name</th>\n",
       "      <th>Death_Cause</th>\n",
       "      <th>Source</th>\n",
       "    </tr>\n",
       "  </thead>\n",
       "  <tbody>\n",
       "    <tr>\n",
       "      <th>16683</th>\n",
       "      <td>LARRY</td>\n",
       "      <td>MUKES</td>\n",
       "      <td>MALE</td>\n",
       "      <td>BLACK OR AFRICAN AMERICAN</td>\n",
       "      <td>1974</td>\n",
       "      <td>2020</td>\n",
       "      <td>TEXAS</td>\n",
       "      <td>HUMBLE</td>\n",
       "      <td>GOVERNOR, TEXAS OFFICE OF THE</td>\n",
       "      <td>SUICIDE</td>\n",
       "      <td>BJA</td>\n",
       "    </tr>\n",
       "    <tr>\n",
       "      <th>16722</th>\n",
       "      <td>LARRY</td>\n",
       "      <td>MUKES</td>\n",
       "      <td>MALE</td>\n",
       "      <td>BLACK OR AFRICAN AMERICAN</td>\n",
       "      <td>1974</td>\n",
       "      <td>2020</td>\n",
       "      <td>TEXAS</td>\n",
       "      <td>HUMBLE</td>\n",
       "      <td>GOVERNOR, TEXAS OFFICE OF THE</td>\n",
       "      <td>SUICIDE</td>\n",
       "      <td>BJA</td>\n",
       "    </tr>\n",
       "    <tr>\n",
       "      <th>20196</th>\n",
       "      <td>LEE</td>\n",
       "      <td>CREELY</td>\n",
       "      <td>MALE</td>\n",
       "      <td>WHITE (NOT HISPANIC)</td>\n",
       "      <td>1986</td>\n",
       "      <td>2020</td>\n",
       "      <td>GEORGIA</td>\n",
       "      <td>SAVANNAH</td>\n",
       "      <td>CRIMINAL JUSTICE COORDINATING COUNCIL</td>\n",
       "      <td>ACCIDENT</td>\n",
       "      <td>BJA</td>\n",
       "    </tr>\n",
       "    <tr>\n",
       "      <th>21385</th>\n",
       "      <td>LEE</td>\n",
       "      <td>CREELY</td>\n",
       "      <td>MALE</td>\n",
       "      <td>WHITE (NOT HISPANIC)</td>\n",
       "      <td>1986</td>\n",
       "      <td>2020</td>\n",
       "      <td>GEORGIA</td>\n",
       "      <td>SAVANNAH</td>\n",
       "      <td>CRIMINAL JUSTICE COORDINATING COUNCIL</td>\n",
       "      <td>ACCIDENT</td>\n",
       "      <td>BJA</td>\n",
       "    </tr>\n",
       "    <tr>\n",
       "      <th>22663</th>\n",
       "      <td>BRUCE</td>\n",
       "      <td>LESLIE</td>\n",
       "      <td>MALE</td>\n",
       "      <td>WHITE (NOT HISPANIC)</td>\n",
       "      <td>1952</td>\n",
       "      <td>2021</td>\n",
       "      <td>WYOMING</td>\n",
       "      <td>TORRINGTON</td>\n",
       "      <td>ATTORNEY GENERAL OF WYOMING</td>\n",
       "      <td>ILLNESS</td>\n",
       "      <td>BJA</td>\n",
       "    </tr>\n",
       "    <tr>\n",
       "      <th>...</th>\n",
       "      <td>...</td>\n",
       "      <td>...</td>\n",
       "      <td>...</td>\n",
       "      <td>...</td>\n",
       "      <td>...</td>\n",
       "      <td>...</td>\n",
       "      <td>...</td>\n",
       "      <td>...</td>\n",
       "      <td>...</td>\n",
       "      <td>...</td>\n",
       "      <td>...</td>\n",
       "    </tr>\n",
       "    <tr>\n",
       "      <th>36702</th>\n",
       "      <td>UNKNOWN</td>\n",
       "      <td>UNKNOWN</td>\n",
       "      <td>MALE</td>\n",
       "      <td>BLACK OR AFRICAN AMERICAN</td>\n",
       "      <td>&lt;NA&gt;</td>\n",
       "      <td>2023</td>\n",
       "      <td>ILLINOIS</td>\n",
       "      <td>UNKNOWN</td>\n",
       "      <td>ILLINOIS CRIMINAL JUSTICE INFORMATION AUTHORITY</td>\n",
       "      <td>USE OF FORCE</td>\n",
       "      <td>BJA</td>\n",
       "    </tr>\n",
       "    <tr>\n",
       "      <th>36933</th>\n",
       "      <td>MATTHEW</td>\n",
       "      <td>BRIGGS</td>\n",
       "      <td>MALE</td>\n",
       "      <td>WHITE (NOT HISPANIC)</td>\n",
       "      <td>1981</td>\n",
       "      <td>2023</td>\n",
       "      <td>IOWA</td>\n",
       "      <td>COUNCIL BLUFFS</td>\n",
       "      <td>DEPT OF PUB SAFETY</td>\n",
       "      <td>USE OF FORCE</td>\n",
       "      <td>BJA</td>\n",
       "    </tr>\n",
       "    <tr>\n",
       "      <th>36970</th>\n",
       "      <td>MATTHEW</td>\n",
       "      <td>BRIGGS</td>\n",
       "      <td>MALE</td>\n",
       "      <td>WHITE (NOT HISPANIC)</td>\n",
       "      <td>1981</td>\n",
       "      <td>2023</td>\n",
       "      <td>IOWA</td>\n",
       "      <td>COUNCIL BLUFFS</td>\n",
       "      <td>DEPT OF PUB SAFETY</td>\n",
       "      <td>USE OF FORCE</td>\n",
       "      <td>BJA</td>\n",
       "    </tr>\n",
       "    <tr>\n",
       "      <th>39155</th>\n",
       "      <td>ERIC</td>\n",
       "      <td>REAVES</td>\n",
       "      <td>MALE</td>\n",
       "      <td>BLACK OR AFRICAN AMERICAN</td>\n",
       "      <td>1969</td>\n",
       "      <td>2023</td>\n",
       "      <td>PENNSYLVANIA</td>\n",
       "      <td>COAL TOWNSHIP</td>\n",
       "      <td>CRIME &amp; DELINQUENCY PA COMMISSION ON</td>\n",
       "      <td>ILLNESS</td>\n",
       "      <td>BJA</td>\n",
       "    </tr>\n",
       "    <tr>\n",
       "      <th>39205</th>\n",
       "      <td>ERIC</td>\n",
       "      <td>REAVES</td>\n",
       "      <td>MALE</td>\n",
       "      <td>BLACK OR AFRICAN AMERICAN</td>\n",
       "      <td>1969</td>\n",
       "      <td>2023</td>\n",
       "      <td>PENNSYLVANIA</td>\n",
       "      <td>COAL TOWNSHIP</td>\n",
       "      <td>CRIME &amp; DELINQUENCY PA COMMISSION ON</td>\n",
       "      <td>ILLNESS</td>\n",
       "      <td>BJA</td>\n",
       "    </tr>\n",
       "  </tbody>\n",
       "</table>\n",
       "<p>72 rows × 11 columns</p>\n",
       "</div>"
      ],
      "text/plain": [
       "      First_Name Last_Name Gender                       Race  Birth_Year  \\\n",
       "16683      LARRY     MUKES   MALE  BLACK OR AFRICAN AMERICAN        1974   \n",
       "16722      LARRY     MUKES   MALE  BLACK OR AFRICAN AMERICAN        1974   \n",
       "20196        LEE    CREELY   MALE       WHITE (NOT HISPANIC)        1986   \n",
       "21385        LEE    CREELY   MALE       WHITE (NOT HISPANIC)        1986   \n",
       "22663      BRUCE    LESLIE   MALE       WHITE (NOT HISPANIC)        1952   \n",
       "...          ...       ...    ...                        ...         ...   \n",
       "36702    UNKNOWN   UNKNOWN   MALE  BLACK OR AFRICAN AMERICAN        <NA>   \n",
       "36933    MATTHEW    BRIGGS   MALE       WHITE (NOT HISPANIC)        1981   \n",
       "36970    MATTHEW    BRIGGS   MALE       WHITE (NOT HISPANIC)        1981   \n",
       "39155       ERIC    REAVES   MALE  BLACK OR AFRICAN AMERICAN        1969   \n",
       "39205       ERIC    REAVES   MALE  BLACK OR AFRICAN AMERICAN        1969   \n",
       "\n",
       "       Reporting_Death_Year    State_Name       City_Name  \\\n",
       "16683                  2020         TEXAS          HUMBLE   \n",
       "16722                  2020         TEXAS          HUMBLE   \n",
       "20196                  2020       GEORGIA        SAVANNAH   \n",
       "21385                  2020       GEORGIA        SAVANNAH   \n",
       "22663                  2021       WYOMING      TORRINGTON   \n",
       "...                     ...           ...             ...   \n",
       "36702                  2023      ILLINOIS         UNKNOWN   \n",
       "36933                  2023          IOWA  COUNCIL BLUFFS   \n",
       "36970                  2023          IOWA  COUNCIL BLUFFS   \n",
       "39155                  2023  PENNSYLVANIA   COAL TOWNSHIP   \n",
       "39205                  2023  PENNSYLVANIA   COAL TOWNSHIP   \n",
       "\n",
       "                                         Facility_Name   Death_Cause Source  \n",
       "16683                    GOVERNOR, TEXAS OFFICE OF THE       SUICIDE    BJA  \n",
       "16722                    GOVERNOR, TEXAS OFFICE OF THE       SUICIDE    BJA  \n",
       "20196            CRIMINAL JUSTICE COORDINATING COUNCIL      ACCIDENT    BJA  \n",
       "21385            CRIMINAL JUSTICE COORDINATING COUNCIL      ACCIDENT    BJA  \n",
       "22663                      ATTORNEY GENERAL OF WYOMING       ILLNESS    BJA  \n",
       "...                                                ...           ...    ...  \n",
       "36702  ILLINOIS CRIMINAL JUSTICE INFORMATION AUTHORITY  USE OF FORCE    BJA  \n",
       "36933                               DEPT OF PUB SAFETY  USE OF FORCE    BJA  \n",
       "36970                               DEPT OF PUB SAFETY  USE OF FORCE    BJA  \n",
       "39155             CRIME & DELINQUENCY PA COMMISSION ON       ILLNESS    BJA  \n",
       "39205             CRIME & DELINQUENCY PA COMMISSION ON       ILLNESS    BJA  \n",
       "\n",
       "[72 rows x 11 columns]"
      ]
     },
     "execution_count": 5,
     "metadata": {},
     "output_type": "execute_result"
    }
   ],
   "source": [
    "# Finding rows duplicated across every column\n",
    "duplicates = Merged_BJA_BJS_prison[Merged_BJA_BJS_prison.duplicated(keep=False)]\n",
    "duplicates"
   ]
  },
  {
   "cell_type": "code",
   "execution_count": 6,
   "id": "038c1e08",
   "metadata": {},
   "outputs": [
    {
     "name": "stdout",
     "output_type": "stream",
     "text": [
      "                      missing_count  missing_percent\n",
      "First_Name                        5             0.01\n",
      "Last_Name                         3             0.01\n",
      "Gender                           24             0.06\n",
      "Race                              0             0.00\n",
      "Birth_Year                      765             1.82\n",
      "Reporting_Death_Year              0             0.00\n",
      "State_Name                       89             0.21\n",
      "City_Name                       109             0.26\n",
      "Facility_Name                    23             0.05\n",
      "Death_Cause                     180             0.43\n",
      "Source                            0             0.00\n"
     ]
    }
   ],
   "source": [
    "# Computing missing counts and percentages\n",
    "missing_counts = Merged_BJA_BJS_prison.isna().sum()\n",
    "missing_percent = (Merged_BJA_BJS_prison.isna().mean() * 100).round(2)\n",
    "\n",
    "# Combining into a summary DataFrame\n",
    "missing_summary = pd.DataFrame(\n",
    "    {\"missing_count\": missing_counts, \"missing_percent\": missing_percent}\n",
    ")\n",
    "\n",
    "print(missing_summary)"
   ]
  },
  {
   "cell_type": "code",
   "execution_count": 7,
   "id": "abdc06fa",
   "metadata": {},
   "outputs": [],
   "source": [
    "# # 2) Identify rows with \"Unknown\" names (case-insensitive)\n",
    "# mask_unknown = (Merged_BJA_BJS_prison['First_Name'].str.upper() == 'UNKNOWN') | (Merged_BJA_BJS_prison['Last_Name'].str.upper() == 'UNKNOWN')\n",
    "\n",
    "# # 3) Split into known vs. unknown subsets\n",
    "# df_known = Merged_BJA_BJS_prison[~mask_unknown]\n",
    "# df_unknown = Merged_BJA_BJS_prison[mask_unknown]\n",
    "\n",
    "# # 4) Drop duplicates in the known subset based on First_Name and Last_Name\n",
    "# df_known = df_known.drop_duplicates(subset=['First_Name', 'Last_Name'], keep='first')\n",
    "\n",
    "# # 5) Recombine the cleaned known subset with all unknown rows\n",
    "# Cleaned_BJA_BJS_prison = pd.concat([df_known, df_unknown], ignore_index=True)\n",
    "\n",
    "# # 6) Reset index\n",
    "# Cleaned_BJA_BJS_prison.reset_index(drop=True, inplace=True)\n",
    "\n",
    "# # 7) Save the deduplicated dataset\n",
    "# output_path = 'Cleaned_BJA_BJS_prison_deduped.csv'\n",
    "# Cleaned_BJA_BJS_prison.to_csv(output_path, index=False)\n",
    "\n",
    "# # 8) Display summary\n",
    "# print(f\"Original rows: {len(Merged_BJA_BJS_prison)}\")\n",
    "# print(f\"Rows after deduplication (excluding UNKNOWN): {len(Cleaned_BJA_BJS_prison)}\")\n",
    "# print(f\"Deduplicated file saved to: {output_path}\")"
   ]
  },
  {
   "cell_type": "code",
   "execution_count": 8,
   "id": "001c4177",
   "metadata": {},
   "outputs": [],
   "source": [
    "# 2) Identify “unknown” rows (where either first or last name is UNKNOWN)\n",
    "mask_unknown = (\n",
    "    Merged_BJA_BJS_prison[\"First_Name\"].str.strip().str.upper() == \"UNKNOWN\"\n",
    ") | (Merged_BJA_BJS_prison[\"Last_Name\"].str.strip().str.upper() == \"UNKNOWN\")\n",
    "\n",
    "# 3) Split into known vs. unknown subsets\n",
    "df_known = Merged_BJA_BJS_prison[~mask_unknown]\n",
    "df_unknown = Merged_BJA_BJS_prison[mask_unknown]\n",
    "\n",
    "# 4) Drop exact duplicates in the known subset (keeps first occurrence)\n",
    "df_known = df_known.drop_duplicates(keep=\"first\")\n",
    "\n",
    "# 5) Recombine known + all unknown rows\n",
    "Cleaned_BJA_BJS_prison = pd.concat([df_known, df_unknown], ignore_index=True)\n",
    "\n",
    "# 6) (Optional) Reset index\n",
    "Cleaned_BJA_BJS_prison.reset_index(drop=True, inplace=True)\n",
    "\n",
    "# 7) Save the deduplicated file\n",
    "# Cleaned_BJA_BJS_prison.to_csv('Cleaned_BJA_BJS_prison.csv', index=False)\n",
    "# print(f\"Original rows: {len(Merged_BJA_BJS_prison):,}\")\n",
    "# print(f\"Cleaned rows : {len(Cleaned_BJA_BJS_prison):,}\")"
   ]
  },
  {
   "cell_type": "code",
   "execution_count": 9,
   "id": "226be0ec",
   "metadata": {},
   "outputs": [
    {
     "data": {
      "application/vnd.microsoft.datawrangler.viewer.v0+json": {
       "columns": [
        {
         "name": "index",
         "rawType": "int64",
         "type": "integer"
        },
        {
         "name": "First_Name",
         "rawType": "object",
         "type": "string"
        },
        {
         "name": "Last_Name",
         "rawType": "object",
         "type": "string"
        },
        {
         "name": "Gender",
         "rawType": "object",
         "type": "string"
        },
        {
         "name": "Race",
         "rawType": "object",
         "type": "string"
        },
        {
         "name": "Birth_Year",
         "rawType": "Int64",
         "type": "integer"
        },
        {
         "name": "Reporting_Death_Year",
         "rawType": "Int64",
         "type": "integer"
        },
        {
         "name": "State_Name",
         "rawType": "object",
         "type": "string"
        },
        {
         "name": "City_Name",
         "rawType": "object",
         "type": "string"
        },
        {
         "name": "Facility_Name",
         "rawType": "object",
         "type": "string"
        },
        {
         "name": "Death_Cause",
         "rawType": "object",
         "type": "string"
        },
        {
         "name": "Source",
         "rawType": "object",
         "type": "string"
        }
       ],
       "ref": "de35c6e8-63ca-4c16-9acf-98212f0b8ecf",
       "rows": [
        [
         "41940",
         "UNKNOWN",
         "UNKNOWN",
         "MALE",
         "BLACK OR AFRICAN AMERICAN",
         null,
         "2022",
         "ILLINOIS",
         "UNKNOWN",
         "ILLINOIS CRIMINAL JUSTICE INFORMATION AUTHORITY",
         "USE OF FORCE",
         "BJA"
        ],
        [
         "41943",
         "UNKNOWN",
         "UNKNOWN",
         "MALE",
         "BLACK OR AFRICAN AMERICAN",
         null,
         "2022",
         "ILLINOIS",
         "UNKNOWN",
         "ILLINOIS CRIMINAL JUSTICE INFORMATION AUTHORITY",
         "USE OF FORCE",
         "BJA"
        ],
        [
         "41944",
         "UNKNOWN",
         "UNKNOWN",
         "MALE",
         "BLACK OR AFRICAN AMERICAN",
         null,
         "2022",
         "ILLINOIS",
         "UNKNOWN",
         "ILLINOIS CRIMINAL JUSTICE INFORMATION AUTHORITY",
         "UNAVAILABLE, INVESTIGATION PENDING",
         "BJA"
        ],
        [
         "41946",
         "UNKNOWN",
         "UNKNOWN",
         "MALE",
         "BLACK OR AFRICAN AMERICAN",
         null,
         "2022",
         "ILLINOIS",
         "UNKNOWN",
         "ILLINOIS CRIMINAL JUSTICE INFORMATION AUTHORITY",
         "UNAVAILABLE, INVESTIGATION PENDING",
         "BJA"
        ],
        [
         "41947",
         "UNKNOWN",
         "UNKNOWN",
         "MALE",
         "WHITE (NOT HISPANIC)",
         null,
         "2022",
         "ILLINOIS",
         "UNKNOWN",
         "ILLINOIS CRIMINAL JUSTICE INFORMATION AUTHORITY",
         "SUICIDE",
         "BJA"
        ],
        [
         "41949",
         "UNKNOWN",
         "UNKNOWN",
         "MALE",
         "WHITE (NOT HISPANIC)",
         null,
         "2022",
         "ILLINOIS",
         "UNKNOWN",
         "ILLINOIS CRIMINAL JUSTICE INFORMATION AUTHORITY",
         "SUICIDE",
         "BJA"
        ],
        [
         "41950",
         "UNKNOWN",
         "UNKNOWN",
         "MALE",
         "WHITE (NOT HISPANIC)",
         null,
         "2022",
         "ILLINOIS",
         "UNKNOWN",
         "ILLINOIS CRIMINAL JUSTICE INFORMATION AUTHORITY",
         "SUICIDE",
         "BJA"
        ],
        [
         "41951",
         "UNKNOWN",
         "UNKNOWN",
         "MALE",
         "WHITE (NOT HISPANIC)",
         null,
         "2022",
         "ILLINOIS",
         "UNKNOWN",
         "ILLINOIS CRIMINAL JUSTICE INFORMATION AUTHORITY",
         "UNAVAILABLE, INVESTIGATION PENDING",
         "BJA"
        ],
        [
         "41952",
         "UNKNOWN",
         "UNKNOWN",
         "MALE",
         "WHITE (NOT HISPANIC)",
         null,
         "2022",
         "ILLINOIS",
         "UNKNOWN",
         "ILLINOIS CRIMINAL JUSTICE INFORMATION AUTHORITY",
         "UNAVAILABLE, INVESTIGATION PENDING",
         "BJA"
        ],
        [
         "41953",
         "UNKNOWN",
         "UNKNOWN",
         "MALE",
         "WHITE (NOT HISPANIC)",
         null,
         "2022",
         "ILLINOIS",
         "UNKNOWN",
         "ILLINOIS CRIMINAL JUSTICE INFORMATION AUTHORITY",
         "UNAVAILABLE, INVESTIGATION PENDING",
         "BJA"
        ],
        [
         "41954",
         "UNKNOWN",
         "UNKNOWN",
         "MALE",
         "WHITE (NOT HISPANIC)",
         null,
         "2022",
         "ILLINOIS",
         "UNKNOWN",
         "ILLINOIS CRIMINAL JUSTICE INFORMATION AUTHORITY",
         "UNAVAILABLE, INVESTIGATION PENDING",
         "BJA"
        ],
        [
         "41965",
         "UNKNOWN",
         "UNKNOWN",
         "MALE",
         "WHITE (NOT HISPANIC)",
         null,
         "2023",
         "ILLINOIS",
         "UNKNOWN",
         "ILLINOIS CRIMINAL JUSTICE INFORMATION AUTHORITY",
         "SUICIDE",
         "BJA"
        ],
        [
         "41966",
         "UNKNOWN",
         "UNKNOWN",
         "MALE",
         "WHITE (NOT HISPANIC)",
         null,
         "2023",
         "ILLINOIS",
         "UNKNOWN",
         "ILLINOIS CRIMINAL JUSTICE INFORMATION AUTHORITY",
         "UNAVAILABLE, INVESTIGATION PENDING",
         "BJA"
        ],
        [
         "41968",
         "UNKNOWN",
         "UNKNOWN",
         "MALE",
         "WHITE (NOT HISPANIC)",
         null,
         "2023",
         "ILLINOIS",
         "UNKNOWN",
         "ILLINOIS CRIMINAL JUSTICE INFORMATION AUTHORITY",
         "SUICIDE",
         "BJA"
        ],
        [
         "41969",
         "UNKNOWN",
         "UNKNOWN",
         "MALE",
         "WHITE (NOT HISPANIC)",
         null,
         "2023",
         "ILLINOIS",
         "UNKNOWN",
         "ILLINOIS CRIMINAL JUSTICE INFORMATION AUTHORITY",
         "SUICIDE",
         "BJA"
        ],
        [
         "41970",
         "UNKNOWN",
         "UNKNOWN",
         "MALE",
         "WHITE (NOT HISPANIC)",
         null,
         "2023",
         "ILLINOIS",
         "UNKNOWN",
         "ILLINOIS CRIMINAL JUSTICE INFORMATION AUTHORITY",
         "SUICIDE",
         "BJA"
        ],
        [
         "41971",
         "UNKNOWN",
         "UNKNOWN",
         "MALE",
         "WHITE (NOT HISPANIC)",
         null,
         "2023",
         "ILLINOIS",
         "UNKNOWN",
         "ILLINOIS CRIMINAL JUSTICE INFORMATION AUTHORITY",
         "SUICIDE",
         "BJA"
        ],
        [
         "41976",
         "UNKNOWN",
         "UNKNOWN",
         "MALE",
         "BLACK OR AFRICAN AMERICAN",
         null,
         "2023",
         "ILLINOIS",
         "UNKNOWN",
         "ILLINOIS CRIMINAL JUSTICE INFORMATION AUTHORITY",
         "USE OF FORCE",
         "BJA"
        ],
        [
         "41978",
         "UNKNOWN",
         "UNKNOWN",
         "MALE",
         "WHITE (NOT HISPANIC)",
         null,
         "2023",
         "ILLINOIS",
         "UNKNOWN",
         "ILLINOIS CRIMINAL JUSTICE INFORMATION AUTHORITY",
         "UNAVAILABLE, INVESTIGATION PENDING",
         "BJA"
        ],
        [
         "41979",
         "UNKNOWN",
         "UNKNOWN",
         "MALE",
         "BLACK OR AFRICAN AMERICAN",
         null,
         "2023",
         "ILLINOIS",
         "UNKNOWN",
         "ILLINOIS CRIMINAL JUSTICE INFORMATION AUTHORITY",
         "USE OF FORCE",
         "BJA"
        ],
        [
         "41983",
         "UNKNOWN",
         "UNKNOWN",
         "MALE",
         "BLACK OR AFRICAN AMERICAN",
         null,
         "2023",
         "ILLINOIS",
         "UNKNOWN",
         "ILLINOIS CRIMINAL JUSTICE INFORMATION AUTHORITY",
         "USE OF FORCE",
         "BJA"
        ],
        [
         "41984",
         "UNKNOWN",
         "UNKNOWN",
         "MALE",
         "BLACK OR AFRICAN AMERICAN",
         null,
         "2023",
         "ILLINOIS",
         "UNKNOWN",
         "ILLINOIS CRIMINAL JUSTICE INFORMATION AUTHORITY",
         "USE OF FORCE",
         "BJA"
        ]
       ],
       "shape": {
        "columns": 11,
        "rows": 22
       }
      },
      "text/html": [
       "<div>\n",
       "<style scoped>\n",
       "    .dataframe tbody tr th:only-of-type {\n",
       "        vertical-align: middle;\n",
       "    }\n",
       "\n",
       "    .dataframe tbody tr th {\n",
       "        vertical-align: top;\n",
       "    }\n",
       "\n",
       "    .dataframe thead th {\n",
       "        text-align: right;\n",
       "    }\n",
       "</style>\n",
       "<table border=\"1\" class=\"dataframe\">\n",
       "  <thead>\n",
       "    <tr style=\"text-align: right;\">\n",
       "      <th></th>\n",
       "      <th>First_Name</th>\n",
       "      <th>Last_Name</th>\n",
       "      <th>Gender</th>\n",
       "      <th>Race</th>\n",
       "      <th>Birth_Year</th>\n",
       "      <th>Reporting_Death_Year</th>\n",
       "      <th>State_Name</th>\n",
       "      <th>City_Name</th>\n",
       "      <th>Facility_Name</th>\n",
       "      <th>Death_Cause</th>\n",
       "      <th>Source</th>\n",
       "    </tr>\n",
       "  </thead>\n",
       "  <tbody>\n",
       "    <tr>\n",
       "      <th>41940</th>\n",
       "      <td>UNKNOWN</td>\n",
       "      <td>UNKNOWN</td>\n",
       "      <td>MALE</td>\n",
       "      <td>BLACK OR AFRICAN AMERICAN</td>\n",
       "      <td>&lt;NA&gt;</td>\n",
       "      <td>2022</td>\n",
       "      <td>ILLINOIS</td>\n",
       "      <td>UNKNOWN</td>\n",
       "      <td>ILLINOIS CRIMINAL JUSTICE INFORMATION AUTHORITY</td>\n",
       "      <td>USE OF FORCE</td>\n",
       "      <td>BJA</td>\n",
       "    </tr>\n",
       "    <tr>\n",
       "      <th>41943</th>\n",
       "      <td>UNKNOWN</td>\n",
       "      <td>UNKNOWN</td>\n",
       "      <td>MALE</td>\n",
       "      <td>BLACK OR AFRICAN AMERICAN</td>\n",
       "      <td>&lt;NA&gt;</td>\n",
       "      <td>2022</td>\n",
       "      <td>ILLINOIS</td>\n",
       "      <td>UNKNOWN</td>\n",
       "      <td>ILLINOIS CRIMINAL JUSTICE INFORMATION AUTHORITY</td>\n",
       "      <td>USE OF FORCE</td>\n",
       "      <td>BJA</td>\n",
       "    </tr>\n",
       "    <tr>\n",
       "      <th>41944</th>\n",
       "      <td>UNKNOWN</td>\n",
       "      <td>UNKNOWN</td>\n",
       "      <td>MALE</td>\n",
       "      <td>BLACK OR AFRICAN AMERICAN</td>\n",
       "      <td>&lt;NA&gt;</td>\n",
       "      <td>2022</td>\n",
       "      <td>ILLINOIS</td>\n",
       "      <td>UNKNOWN</td>\n",
       "      <td>ILLINOIS CRIMINAL JUSTICE INFORMATION AUTHORITY</td>\n",
       "      <td>UNAVAILABLE, INVESTIGATION PENDING</td>\n",
       "      <td>BJA</td>\n",
       "    </tr>\n",
       "    <tr>\n",
       "      <th>41946</th>\n",
       "      <td>UNKNOWN</td>\n",
       "      <td>UNKNOWN</td>\n",
       "      <td>MALE</td>\n",
       "      <td>BLACK OR AFRICAN AMERICAN</td>\n",
       "      <td>&lt;NA&gt;</td>\n",
       "      <td>2022</td>\n",
       "      <td>ILLINOIS</td>\n",
       "      <td>UNKNOWN</td>\n",
       "      <td>ILLINOIS CRIMINAL JUSTICE INFORMATION AUTHORITY</td>\n",
       "      <td>UNAVAILABLE, INVESTIGATION PENDING</td>\n",
       "      <td>BJA</td>\n",
       "    </tr>\n",
       "    <tr>\n",
       "      <th>41947</th>\n",
       "      <td>UNKNOWN</td>\n",
       "      <td>UNKNOWN</td>\n",
       "      <td>MALE</td>\n",
       "      <td>WHITE (NOT HISPANIC)</td>\n",
       "      <td>&lt;NA&gt;</td>\n",
       "      <td>2022</td>\n",
       "      <td>ILLINOIS</td>\n",
       "      <td>UNKNOWN</td>\n",
       "      <td>ILLINOIS CRIMINAL JUSTICE INFORMATION AUTHORITY</td>\n",
       "      <td>SUICIDE</td>\n",
       "      <td>BJA</td>\n",
       "    </tr>\n",
       "    <tr>\n",
       "      <th>41949</th>\n",
       "      <td>UNKNOWN</td>\n",
       "      <td>UNKNOWN</td>\n",
       "      <td>MALE</td>\n",
       "      <td>WHITE (NOT HISPANIC)</td>\n",
       "      <td>&lt;NA&gt;</td>\n",
       "      <td>2022</td>\n",
       "      <td>ILLINOIS</td>\n",
       "      <td>UNKNOWN</td>\n",
       "      <td>ILLINOIS CRIMINAL JUSTICE INFORMATION AUTHORITY</td>\n",
       "      <td>SUICIDE</td>\n",
       "      <td>BJA</td>\n",
       "    </tr>\n",
       "    <tr>\n",
       "      <th>41950</th>\n",
       "      <td>UNKNOWN</td>\n",
       "      <td>UNKNOWN</td>\n",
       "      <td>MALE</td>\n",
       "      <td>WHITE (NOT HISPANIC)</td>\n",
       "      <td>&lt;NA&gt;</td>\n",
       "      <td>2022</td>\n",
       "      <td>ILLINOIS</td>\n",
       "      <td>UNKNOWN</td>\n",
       "      <td>ILLINOIS CRIMINAL JUSTICE INFORMATION AUTHORITY</td>\n",
       "      <td>SUICIDE</td>\n",
       "      <td>BJA</td>\n",
       "    </tr>\n",
       "    <tr>\n",
       "      <th>41951</th>\n",
       "      <td>UNKNOWN</td>\n",
       "      <td>UNKNOWN</td>\n",
       "      <td>MALE</td>\n",
       "      <td>WHITE (NOT HISPANIC)</td>\n",
       "      <td>&lt;NA&gt;</td>\n",
       "      <td>2022</td>\n",
       "      <td>ILLINOIS</td>\n",
       "      <td>UNKNOWN</td>\n",
       "      <td>ILLINOIS CRIMINAL JUSTICE INFORMATION AUTHORITY</td>\n",
       "      <td>UNAVAILABLE, INVESTIGATION PENDING</td>\n",
       "      <td>BJA</td>\n",
       "    </tr>\n",
       "    <tr>\n",
       "      <th>41952</th>\n",
       "      <td>UNKNOWN</td>\n",
       "      <td>UNKNOWN</td>\n",
       "      <td>MALE</td>\n",
       "      <td>WHITE (NOT HISPANIC)</td>\n",
       "      <td>&lt;NA&gt;</td>\n",
       "      <td>2022</td>\n",
       "      <td>ILLINOIS</td>\n",
       "      <td>UNKNOWN</td>\n",
       "      <td>ILLINOIS CRIMINAL JUSTICE INFORMATION AUTHORITY</td>\n",
       "      <td>UNAVAILABLE, INVESTIGATION PENDING</td>\n",
       "      <td>BJA</td>\n",
       "    </tr>\n",
       "    <tr>\n",
       "      <th>41953</th>\n",
       "      <td>UNKNOWN</td>\n",
       "      <td>UNKNOWN</td>\n",
       "      <td>MALE</td>\n",
       "      <td>WHITE (NOT HISPANIC)</td>\n",
       "      <td>&lt;NA&gt;</td>\n",
       "      <td>2022</td>\n",
       "      <td>ILLINOIS</td>\n",
       "      <td>UNKNOWN</td>\n",
       "      <td>ILLINOIS CRIMINAL JUSTICE INFORMATION AUTHORITY</td>\n",
       "      <td>UNAVAILABLE, INVESTIGATION PENDING</td>\n",
       "      <td>BJA</td>\n",
       "    </tr>\n",
       "    <tr>\n",
       "      <th>41954</th>\n",
       "      <td>UNKNOWN</td>\n",
       "      <td>UNKNOWN</td>\n",
       "      <td>MALE</td>\n",
       "      <td>WHITE (NOT HISPANIC)</td>\n",
       "      <td>&lt;NA&gt;</td>\n",
       "      <td>2022</td>\n",
       "      <td>ILLINOIS</td>\n",
       "      <td>UNKNOWN</td>\n",
       "      <td>ILLINOIS CRIMINAL JUSTICE INFORMATION AUTHORITY</td>\n",
       "      <td>UNAVAILABLE, INVESTIGATION PENDING</td>\n",
       "      <td>BJA</td>\n",
       "    </tr>\n",
       "    <tr>\n",
       "      <th>41965</th>\n",
       "      <td>UNKNOWN</td>\n",
       "      <td>UNKNOWN</td>\n",
       "      <td>MALE</td>\n",
       "      <td>WHITE (NOT HISPANIC)</td>\n",
       "      <td>&lt;NA&gt;</td>\n",
       "      <td>2023</td>\n",
       "      <td>ILLINOIS</td>\n",
       "      <td>UNKNOWN</td>\n",
       "      <td>ILLINOIS CRIMINAL JUSTICE INFORMATION AUTHORITY</td>\n",
       "      <td>SUICIDE</td>\n",
       "      <td>BJA</td>\n",
       "    </tr>\n",
       "    <tr>\n",
       "      <th>41966</th>\n",
       "      <td>UNKNOWN</td>\n",
       "      <td>UNKNOWN</td>\n",
       "      <td>MALE</td>\n",
       "      <td>WHITE (NOT HISPANIC)</td>\n",
       "      <td>&lt;NA&gt;</td>\n",
       "      <td>2023</td>\n",
       "      <td>ILLINOIS</td>\n",
       "      <td>UNKNOWN</td>\n",
       "      <td>ILLINOIS CRIMINAL JUSTICE INFORMATION AUTHORITY</td>\n",
       "      <td>UNAVAILABLE, INVESTIGATION PENDING</td>\n",
       "      <td>BJA</td>\n",
       "    </tr>\n",
       "    <tr>\n",
       "      <th>41968</th>\n",
       "      <td>UNKNOWN</td>\n",
       "      <td>UNKNOWN</td>\n",
       "      <td>MALE</td>\n",
       "      <td>WHITE (NOT HISPANIC)</td>\n",
       "      <td>&lt;NA&gt;</td>\n",
       "      <td>2023</td>\n",
       "      <td>ILLINOIS</td>\n",
       "      <td>UNKNOWN</td>\n",
       "      <td>ILLINOIS CRIMINAL JUSTICE INFORMATION AUTHORITY</td>\n",
       "      <td>SUICIDE</td>\n",
       "      <td>BJA</td>\n",
       "    </tr>\n",
       "    <tr>\n",
       "      <th>41969</th>\n",
       "      <td>UNKNOWN</td>\n",
       "      <td>UNKNOWN</td>\n",
       "      <td>MALE</td>\n",
       "      <td>WHITE (NOT HISPANIC)</td>\n",
       "      <td>&lt;NA&gt;</td>\n",
       "      <td>2023</td>\n",
       "      <td>ILLINOIS</td>\n",
       "      <td>UNKNOWN</td>\n",
       "      <td>ILLINOIS CRIMINAL JUSTICE INFORMATION AUTHORITY</td>\n",
       "      <td>SUICIDE</td>\n",
       "      <td>BJA</td>\n",
       "    </tr>\n",
       "    <tr>\n",
       "      <th>41970</th>\n",
       "      <td>UNKNOWN</td>\n",
       "      <td>UNKNOWN</td>\n",
       "      <td>MALE</td>\n",
       "      <td>WHITE (NOT HISPANIC)</td>\n",
       "      <td>&lt;NA&gt;</td>\n",
       "      <td>2023</td>\n",
       "      <td>ILLINOIS</td>\n",
       "      <td>UNKNOWN</td>\n",
       "      <td>ILLINOIS CRIMINAL JUSTICE INFORMATION AUTHORITY</td>\n",
       "      <td>SUICIDE</td>\n",
       "      <td>BJA</td>\n",
       "    </tr>\n",
       "    <tr>\n",
       "      <th>41971</th>\n",
       "      <td>UNKNOWN</td>\n",
       "      <td>UNKNOWN</td>\n",
       "      <td>MALE</td>\n",
       "      <td>WHITE (NOT HISPANIC)</td>\n",
       "      <td>&lt;NA&gt;</td>\n",
       "      <td>2023</td>\n",
       "      <td>ILLINOIS</td>\n",
       "      <td>UNKNOWN</td>\n",
       "      <td>ILLINOIS CRIMINAL JUSTICE INFORMATION AUTHORITY</td>\n",
       "      <td>SUICIDE</td>\n",
       "      <td>BJA</td>\n",
       "    </tr>\n",
       "    <tr>\n",
       "      <th>41976</th>\n",
       "      <td>UNKNOWN</td>\n",
       "      <td>UNKNOWN</td>\n",
       "      <td>MALE</td>\n",
       "      <td>BLACK OR AFRICAN AMERICAN</td>\n",
       "      <td>&lt;NA&gt;</td>\n",
       "      <td>2023</td>\n",
       "      <td>ILLINOIS</td>\n",
       "      <td>UNKNOWN</td>\n",
       "      <td>ILLINOIS CRIMINAL JUSTICE INFORMATION AUTHORITY</td>\n",
       "      <td>USE OF FORCE</td>\n",
       "      <td>BJA</td>\n",
       "    </tr>\n",
       "    <tr>\n",
       "      <th>41978</th>\n",
       "      <td>UNKNOWN</td>\n",
       "      <td>UNKNOWN</td>\n",
       "      <td>MALE</td>\n",
       "      <td>WHITE (NOT HISPANIC)</td>\n",
       "      <td>&lt;NA&gt;</td>\n",
       "      <td>2023</td>\n",
       "      <td>ILLINOIS</td>\n",
       "      <td>UNKNOWN</td>\n",
       "      <td>ILLINOIS CRIMINAL JUSTICE INFORMATION AUTHORITY</td>\n",
       "      <td>UNAVAILABLE, INVESTIGATION PENDING</td>\n",
       "      <td>BJA</td>\n",
       "    </tr>\n",
       "    <tr>\n",
       "      <th>41979</th>\n",
       "      <td>UNKNOWN</td>\n",
       "      <td>UNKNOWN</td>\n",
       "      <td>MALE</td>\n",
       "      <td>BLACK OR AFRICAN AMERICAN</td>\n",
       "      <td>&lt;NA&gt;</td>\n",
       "      <td>2023</td>\n",
       "      <td>ILLINOIS</td>\n",
       "      <td>UNKNOWN</td>\n",
       "      <td>ILLINOIS CRIMINAL JUSTICE INFORMATION AUTHORITY</td>\n",
       "      <td>USE OF FORCE</td>\n",
       "      <td>BJA</td>\n",
       "    </tr>\n",
       "    <tr>\n",
       "      <th>41983</th>\n",
       "      <td>UNKNOWN</td>\n",
       "      <td>UNKNOWN</td>\n",
       "      <td>MALE</td>\n",
       "      <td>BLACK OR AFRICAN AMERICAN</td>\n",
       "      <td>&lt;NA&gt;</td>\n",
       "      <td>2023</td>\n",
       "      <td>ILLINOIS</td>\n",
       "      <td>UNKNOWN</td>\n",
       "      <td>ILLINOIS CRIMINAL JUSTICE INFORMATION AUTHORITY</td>\n",
       "      <td>USE OF FORCE</td>\n",
       "      <td>BJA</td>\n",
       "    </tr>\n",
       "    <tr>\n",
       "      <th>41984</th>\n",
       "      <td>UNKNOWN</td>\n",
       "      <td>UNKNOWN</td>\n",
       "      <td>MALE</td>\n",
       "      <td>BLACK OR AFRICAN AMERICAN</td>\n",
       "      <td>&lt;NA&gt;</td>\n",
       "      <td>2023</td>\n",
       "      <td>ILLINOIS</td>\n",
       "      <td>UNKNOWN</td>\n",
       "      <td>ILLINOIS CRIMINAL JUSTICE INFORMATION AUTHORITY</td>\n",
       "      <td>USE OF FORCE</td>\n",
       "      <td>BJA</td>\n",
       "    </tr>\n",
       "  </tbody>\n",
       "</table>\n",
       "</div>"
      ],
      "text/plain": [
       "      First_Name Last_Name Gender                       Race  Birth_Year  \\\n",
       "41940    UNKNOWN   UNKNOWN   MALE  BLACK OR AFRICAN AMERICAN        <NA>   \n",
       "41943    UNKNOWN   UNKNOWN   MALE  BLACK OR AFRICAN AMERICAN        <NA>   \n",
       "41944    UNKNOWN   UNKNOWN   MALE  BLACK OR AFRICAN AMERICAN        <NA>   \n",
       "41946    UNKNOWN   UNKNOWN   MALE  BLACK OR AFRICAN AMERICAN        <NA>   \n",
       "41947    UNKNOWN   UNKNOWN   MALE       WHITE (NOT HISPANIC)        <NA>   \n",
       "41949    UNKNOWN   UNKNOWN   MALE       WHITE (NOT HISPANIC)        <NA>   \n",
       "41950    UNKNOWN   UNKNOWN   MALE       WHITE (NOT HISPANIC)        <NA>   \n",
       "41951    UNKNOWN   UNKNOWN   MALE       WHITE (NOT HISPANIC)        <NA>   \n",
       "41952    UNKNOWN   UNKNOWN   MALE       WHITE (NOT HISPANIC)        <NA>   \n",
       "41953    UNKNOWN   UNKNOWN   MALE       WHITE (NOT HISPANIC)        <NA>   \n",
       "41954    UNKNOWN   UNKNOWN   MALE       WHITE (NOT HISPANIC)        <NA>   \n",
       "41965    UNKNOWN   UNKNOWN   MALE       WHITE (NOT HISPANIC)        <NA>   \n",
       "41966    UNKNOWN   UNKNOWN   MALE       WHITE (NOT HISPANIC)        <NA>   \n",
       "41968    UNKNOWN   UNKNOWN   MALE       WHITE (NOT HISPANIC)        <NA>   \n",
       "41969    UNKNOWN   UNKNOWN   MALE       WHITE (NOT HISPANIC)        <NA>   \n",
       "41970    UNKNOWN   UNKNOWN   MALE       WHITE (NOT HISPANIC)        <NA>   \n",
       "41971    UNKNOWN   UNKNOWN   MALE       WHITE (NOT HISPANIC)        <NA>   \n",
       "41976    UNKNOWN   UNKNOWN   MALE  BLACK OR AFRICAN AMERICAN        <NA>   \n",
       "41978    UNKNOWN   UNKNOWN   MALE       WHITE (NOT HISPANIC)        <NA>   \n",
       "41979    UNKNOWN   UNKNOWN   MALE  BLACK OR AFRICAN AMERICAN        <NA>   \n",
       "41983    UNKNOWN   UNKNOWN   MALE  BLACK OR AFRICAN AMERICAN        <NA>   \n",
       "41984    UNKNOWN   UNKNOWN   MALE  BLACK OR AFRICAN AMERICAN        <NA>   \n",
       "\n",
       "       Reporting_Death_Year State_Name City_Name  \\\n",
       "41940                  2022   ILLINOIS   UNKNOWN   \n",
       "41943                  2022   ILLINOIS   UNKNOWN   \n",
       "41944                  2022   ILLINOIS   UNKNOWN   \n",
       "41946                  2022   ILLINOIS   UNKNOWN   \n",
       "41947                  2022   ILLINOIS   UNKNOWN   \n",
       "41949                  2022   ILLINOIS   UNKNOWN   \n",
       "41950                  2022   ILLINOIS   UNKNOWN   \n",
       "41951                  2022   ILLINOIS   UNKNOWN   \n",
       "41952                  2022   ILLINOIS   UNKNOWN   \n",
       "41953                  2022   ILLINOIS   UNKNOWN   \n",
       "41954                  2022   ILLINOIS   UNKNOWN   \n",
       "41965                  2023   ILLINOIS   UNKNOWN   \n",
       "41966                  2023   ILLINOIS   UNKNOWN   \n",
       "41968                  2023   ILLINOIS   UNKNOWN   \n",
       "41969                  2023   ILLINOIS   UNKNOWN   \n",
       "41970                  2023   ILLINOIS   UNKNOWN   \n",
       "41971                  2023   ILLINOIS   UNKNOWN   \n",
       "41976                  2023   ILLINOIS   UNKNOWN   \n",
       "41978                  2023   ILLINOIS   UNKNOWN   \n",
       "41979                  2023   ILLINOIS   UNKNOWN   \n",
       "41983                  2023   ILLINOIS   UNKNOWN   \n",
       "41984                  2023   ILLINOIS   UNKNOWN   \n",
       "\n",
       "                                         Facility_Name  \\\n",
       "41940  ILLINOIS CRIMINAL JUSTICE INFORMATION AUTHORITY   \n",
       "41943  ILLINOIS CRIMINAL JUSTICE INFORMATION AUTHORITY   \n",
       "41944  ILLINOIS CRIMINAL JUSTICE INFORMATION AUTHORITY   \n",
       "41946  ILLINOIS CRIMINAL JUSTICE INFORMATION AUTHORITY   \n",
       "41947  ILLINOIS CRIMINAL JUSTICE INFORMATION AUTHORITY   \n",
       "41949  ILLINOIS CRIMINAL JUSTICE INFORMATION AUTHORITY   \n",
       "41950  ILLINOIS CRIMINAL JUSTICE INFORMATION AUTHORITY   \n",
       "41951  ILLINOIS CRIMINAL JUSTICE INFORMATION AUTHORITY   \n",
       "41952  ILLINOIS CRIMINAL JUSTICE INFORMATION AUTHORITY   \n",
       "41953  ILLINOIS CRIMINAL JUSTICE INFORMATION AUTHORITY   \n",
       "41954  ILLINOIS CRIMINAL JUSTICE INFORMATION AUTHORITY   \n",
       "41965  ILLINOIS CRIMINAL JUSTICE INFORMATION AUTHORITY   \n",
       "41966  ILLINOIS CRIMINAL JUSTICE INFORMATION AUTHORITY   \n",
       "41968  ILLINOIS CRIMINAL JUSTICE INFORMATION AUTHORITY   \n",
       "41969  ILLINOIS CRIMINAL JUSTICE INFORMATION AUTHORITY   \n",
       "41970  ILLINOIS CRIMINAL JUSTICE INFORMATION AUTHORITY   \n",
       "41971  ILLINOIS CRIMINAL JUSTICE INFORMATION AUTHORITY   \n",
       "41976  ILLINOIS CRIMINAL JUSTICE INFORMATION AUTHORITY   \n",
       "41978  ILLINOIS CRIMINAL JUSTICE INFORMATION AUTHORITY   \n",
       "41979  ILLINOIS CRIMINAL JUSTICE INFORMATION AUTHORITY   \n",
       "41983  ILLINOIS CRIMINAL JUSTICE INFORMATION AUTHORITY   \n",
       "41984  ILLINOIS CRIMINAL JUSTICE INFORMATION AUTHORITY   \n",
       "\n",
       "                              Death_Cause Source  \n",
       "41940                        USE OF FORCE    BJA  \n",
       "41943                        USE OF FORCE    BJA  \n",
       "41944  UNAVAILABLE, INVESTIGATION PENDING    BJA  \n",
       "41946  UNAVAILABLE, INVESTIGATION PENDING    BJA  \n",
       "41947                             SUICIDE    BJA  \n",
       "41949                             SUICIDE    BJA  \n",
       "41950                             SUICIDE    BJA  \n",
       "41951  UNAVAILABLE, INVESTIGATION PENDING    BJA  \n",
       "41952  UNAVAILABLE, INVESTIGATION PENDING    BJA  \n",
       "41953  UNAVAILABLE, INVESTIGATION PENDING    BJA  \n",
       "41954  UNAVAILABLE, INVESTIGATION PENDING    BJA  \n",
       "41965                             SUICIDE    BJA  \n",
       "41966  UNAVAILABLE, INVESTIGATION PENDING    BJA  \n",
       "41968                             SUICIDE    BJA  \n",
       "41969                             SUICIDE    BJA  \n",
       "41970                             SUICIDE    BJA  \n",
       "41971                             SUICIDE    BJA  \n",
       "41976                        USE OF FORCE    BJA  \n",
       "41978  UNAVAILABLE, INVESTIGATION PENDING    BJA  \n",
       "41979                        USE OF FORCE    BJA  \n",
       "41983                        USE OF FORCE    BJA  \n",
       "41984                        USE OF FORCE    BJA  "
      ]
     },
     "execution_count": 9,
     "metadata": {},
     "output_type": "execute_result"
    }
   ],
   "source": [
    "# Finding rows duplicated across every column\n",
    "duplicates = Cleaned_BJA_BJS_prison[Cleaned_BJA_BJS_prison.duplicated(keep=False)]\n",
    "duplicates"
   ]
  },
  {
   "cell_type": "code",
   "execution_count": 10,
   "id": "071a4fe0",
   "metadata": {},
   "outputs": [
    {
     "data": {
      "application/vnd.plotly.v1+json": {
       "config": {
        "plotlyServerURL": "https://plot.ly"
       },
       "data": [
        {
         "coloraxis": "coloraxis",
         "customdata": [
          [
           1345,
           "AL"
          ],
          [
           106,
           "AK"
          ],
          [
           807,
           "AZ"
          ],
          [
           740,
           "AR"
          ],
          [
           4141,
           "CA"
          ],
          [
           507,
           "CO"
          ],
          [
           221,
           "CT"
          ],
          [
           129,
           "DE"
          ],
          [
           58,
           "DC"
          ],
          [
           4024,
           "FL"
          ],
          [
           2380,
           "GA"
          ],
          [
           121,
           "HI"
          ],
          [
           250,
           "ID"
          ],
          [
           1009,
           "IL"
          ],
          [
           1021,
           "IN"
          ],
          [
           278,
           "IA"
          ],
          [
           307,
           "KS"
          ],
          [
           681,
           "KY"
          ],
          [
           951,
           "LA"
          ],
          [
           102,
           "ME"
          ],
          [
           529,
           "MD"
          ],
          [
           396,
           "MA"
          ],
          [
           1213,
           "MI"
          ],
          [
           199,
           "MN"
          ],
          [
           582,
           "MS"
          ],
          [
           1039,
           "MO"
          ],
          [
           175,
           "MT"
          ],
          [
           253,
           "NE"
          ],
          [
           483,
           "NV"
          ],
          [
           94,
           "NH"
          ],
          [
           443,
           "NJ"
          ],
          [
           231,
           "NM"
          ],
          [
           1121,
           "NY"
          ],
          [
           1258,
           "NC"
          ],
          [
           18,
           "ND"
          ],
          [
           1705,
           "OH"
          ],
          [
           1285,
           "OK"
          ],
          [
           445,
           "OR"
          ],
          [
           1777,
           "PA"
          ],
          [
           43,
           "RI"
          ],
          [
           1062,
           "SC"
          ],
          [
           82,
           "SD"
          ],
          [
           1212,
           "TN"
          ],
          [
           5236,
           "TX"
          ],
          [
           211,
           "UT"
          ],
          [
           47,
           "VT"
          ],
          [
           509,
           "VA"
          ],
          [
           188,
           "WA"
          ],
          [
           307,
           "WV"
          ],
          [
           494,
           "WI"
          ],
          [
           89,
           "WY"
          ]
         ],
         "geo": "geo",
         "hovertemplate": "<b>%{hovertext}</b><br><br>Prisoner Deaths=%{z}<extra></extra>",
         "hovertext": [
          "ALABAMA",
          "ALASKA",
          "ARIZONA",
          "ARKANSAS",
          "CALIFORNIA",
          "COLORADO",
          "CONNECTICUT",
          "DELAWARE",
          "DISTRICT OF COLUMBIA",
          "FLORIDA",
          "GEORGIA",
          "HAWAII",
          "IDAHO",
          "ILLINOIS",
          "INDIANA",
          "IOWA",
          "KANSAS",
          "KENTUCKY",
          "LOUISIANA",
          "MAINE",
          "MARYLAND",
          "MASSACHUSETTS",
          "MICHIGAN",
          "MINNESOTA",
          "MISSISSIPPI",
          "MISSOURI",
          "MONTANA",
          "NEBRASKA",
          "NEVADA",
          "NEW HAMPSHIRE",
          "NEW JERSEY",
          "NEW MEXICO",
          "NEW YORK",
          "NORTH CAROLINA",
          "NORTH DAKOTA",
          "OHIO",
          "OKLAHOMA",
          "OREGON",
          "PENNSYLVANIA",
          "RHODE ISLAND",
          "SOUTH CAROLINA",
          "SOUTH DAKOTA",
          "TENNESSEE",
          "TEXAS",
          "UTAH",
          "VERMONT",
          "VIRGINIA",
          "WASHINGTON",
          "WEST VIRGINIA",
          "WISCONSIN",
          "WYOMING"
         ],
         "locationmode": "USA-states",
         "locations": [
          "AL",
          "AK",
          "AZ",
          "AR",
          "CA",
          "CO",
          "CT",
          "DE",
          "DC",
          "FL",
          "GA",
          "HI",
          "ID",
          "IL",
          "IN",
          "IA",
          "KS",
          "KY",
          "LA",
          "ME",
          "MD",
          "MA",
          "MI",
          "MN",
          "MS",
          "MO",
          "MT",
          "NE",
          "NV",
          "NH",
          "NJ",
          "NM",
          "NY",
          "NC",
          "ND",
          "OH",
          "OK",
          "OR",
          "PA",
          "RI",
          "SC",
          "SD",
          "TN",
          "TX",
          "UT",
          "VT",
          "VA",
          "WA",
          "WV",
          "WI",
          "WY"
         ],
         "name": "",
         "type": "choropleth",
         "z": [
          1345,
          106,
          807,
          740,
          4141,
          507,
          221,
          129,
          58,
          4024,
          2380,
          121,
          250,
          1009,
          1021,
          278,
          307,
          681,
          951,
          102,
          529,
          396,
          1213,
          199,
          582,
          1039,
          175,
          253,
          483,
          94,
          443,
          231,
          1121,
          1258,
          18,
          1705,
          1285,
          445,
          1777,
          43,
          1062,
          82,
          1212,
          5236,
          211,
          47,
          509,
          188,
          307,
          494,
          89
         ]
        },
        {
         "hoverinfo": "none",
         "lat": [
          32.8067,
          61.3707,
          33.7298,
          34.9697,
          36.1162,
          39.0598,
          41.5978,
          39.3185,
          38.8974,
          27.7663,
          33.0406,
          21.0943,
          44.2405,
          40.3495,
          39.8494,
          42.0115,
          38.5266,
          37.6681,
          31.1695,
          44.6939,
          39.0639,
          42.2302,
          43.3266,
          45.6945,
          32.7416,
          38.4561,
          46.9219,
          41.1254,
          38.3135,
          43.4525,
          40.2989,
          34.8405,
          42.1657,
          35.6301,
          47.5289,
          40.3888,
          35.5653,
          44.572,
          40.5908,
          41.6809,
          33.8569,
          44.2998,
          35.7478,
          31.0545,
          40.15,
          44.0459,
          37.7693,
          47.4009,
          38.4912,
          44.2685,
          42.756
         ],
         "lon": [
          -86.7911,
          -152.4044,
          -111.4312,
          -92.3731,
          -119.6816,
          -105.3111,
          -72.7554,
          -75.5071,
          -77.0268,
          -81.6868,
          -83.6431,
          -157.4983,
          -114.4788,
          -88.9861,
          -86.2583,
          -93.2105,
          -96.7265,
          -84.6701,
          -91.8678,
          -69.3819,
          -76.8021,
          -71.5301,
          -84.5361,
          -93.9002,
          -89.6787,
          -92.2884,
          -110.4544,
          -98.2681,
          -117.0554,
          -71.5639,
          -74.521,
          -106.2485,
          -74.9481,
          -79.8064,
          -99.784,
          -82.7649,
          -96.9289,
          -122.0709,
          -77.2098,
          -71.5118,
          -80.945,
          -99.4388,
          -86.6923,
          -97.5635,
          -111.8624,
          -72.7107,
          -78.1699,
          -121.4905,
          -80.9545,
          -89.6165,
          -107.3025
         ],
         "mode": "text",
         "showlegend": false,
         "text": [
          "AL",
          "AK",
          "AZ",
          "AR",
          "CA",
          "CO",
          "CT",
          "DE",
          "DC",
          "FL",
          "GA",
          "HI",
          "ID",
          "IL",
          "IN",
          "IA",
          "KS",
          "KY",
          "LA",
          "ME",
          "MD",
          "MA",
          "MI",
          "MN",
          "MS",
          "MO",
          "MT",
          "NE",
          "NV",
          "NH",
          "NJ",
          "NM",
          "NY",
          "NC",
          "ND",
          "OH",
          "OK",
          "OR",
          "PA",
          "RI",
          "SC",
          "SD",
          "TN",
          "TX",
          "UT",
          "VT",
          "VA",
          "WA",
          "WV",
          "WI",
          "WY"
         ],
         "textfont": {
          "color": "black",
          "size": 10
         },
         "type": "scattergeo"
        }
       ],
       "layout": {
        "coloraxis": {
         "colorbar": {
          "title": {
           "text": "Prisoner Deaths"
          }
         },
         "colorscale": [
          [
           0,
           "rgb(255,245,240)"
          ],
          [
           0.125,
           "rgb(254,224,210)"
          ],
          [
           0.25,
           "rgb(252,187,161)"
          ],
          [
           0.375,
           "rgb(252,146,114)"
          ],
          [
           0.5,
           "rgb(251,106,74)"
          ],
          [
           0.625,
           "rgb(239,59,44)"
          ],
          [
           0.75,
           "rgb(203,24,29)"
          ],
          [
           0.875,
           "rgb(165,15,21)"
          ],
          [
           1,
           "rgb(103,0,13)"
          ]
         ]
        },
        "geo": {
         "bgcolor": "#F0F0F0",
         "center": {},
         "domain": {
          "x": [
           0,
           1
          ],
          "y": [
           0,
           1
          ]
         },
         "lakecolor": "white",
         "scope": "usa"
        },
        "legend": {
         "tracegroupgap": 0
        },
        "margin": {
         "b": 0,
         "l": 0,
         "r": 0,
         "t": 50
        },
        "template": {
         "data": {
          "bar": [
           {
            "error_x": {
             "color": "#2a3f5f"
            },
            "error_y": {
             "color": "#2a3f5f"
            },
            "marker": {
             "line": {
              "color": "#E5ECF6",
              "width": 0.5
             },
             "pattern": {
              "fillmode": "overlay",
              "size": 10,
              "solidity": 0.2
             }
            },
            "type": "bar"
           }
          ],
          "barpolar": [
           {
            "marker": {
             "line": {
              "color": "#E5ECF6",
              "width": 0.5
             },
             "pattern": {
              "fillmode": "overlay",
              "size": 10,
              "solidity": 0.2
             }
            },
            "type": "barpolar"
           }
          ],
          "carpet": [
           {
            "aaxis": {
             "endlinecolor": "#2a3f5f",
             "gridcolor": "white",
             "linecolor": "white",
             "minorgridcolor": "white",
             "startlinecolor": "#2a3f5f"
            },
            "baxis": {
             "endlinecolor": "#2a3f5f",
             "gridcolor": "white",
             "linecolor": "white",
             "minorgridcolor": "white",
             "startlinecolor": "#2a3f5f"
            },
            "type": "carpet"
           }
          ],
          "choropleth": [
           {
            "colorbar": {
             "outlinewidth": 0,
             "ticks": ""
            },
            "type": "choropleth"
           }
          ],
          "contour": [
           {
            "colorbar": {
             "outlinewidth": 0,
             "ticks": ""
            },
            "colorscale": [
             [
              0,
              "#0d0887"
             ],
             [
              0.1111111111111111,
              "#46039f"
             ],
             [
              0.2222222222222222,
              "#7201a8"
             ],
             [
              0.3333333333333333,
              "#9c179e"
             ],
             [
              0.4444444444444444,
              "#bd3786"
             ],
             [
              0.5555555555555556,
              "#d8576b"
             ],
             [
              0.6666666666666666,
              "#ed7953"
             ],
             [
              0.7777777777777778,
              "#fb9f3a"
             ],
             [
              0.8888888888888888,
              "#fdca26"
             ],
             [
              1,
              "#f0f921"
             ]
            ],
            "type": "contour"
           }
          ],
          "contourcarpet": [
           {
            "colorbar": {
             "outlinewidth": 0,
             "ticks": ""
            },
            "type": "contourcarpet"
           }
          ],
          "heatmap": [
           {
            "colorbar": {
             "outlinewidth": 0,
             "ticks": ""
            },
            "colorscale": [
             [
              0,
              "#0d0887"
             ],
             [
              0.1111111111111111,
              "#46039f"
             ],
             [
              0.2222222222222222,
              "#7201a8"
             ],
             [
              0.3333333333333333,
              "#9c179e"
             ],
             [
              0.4444444444444444,
              "#bd3786"
             ],
             [
              0.5555555555555556,
              "#d8576b"
             ],
             [
              0.6666666666666666,
              "#ed7953"
             ],
             [
              0.7777777777777778,
              "#fb9f3a"
             ],
             [
              0.8888888888888888,
              "#fdca26"
             ],
             [
              1,
              "#f0f921"
             ]
            ],
            "type": "heatmap"
           }
          ],
          "heatmapgl": [
           {
            "colorbar": {
             "outlinewidth": 0,
             "ticks": ""
            },
            "colorscale": [
             [
              0,
              "#0d0887"
             ],
             [
              0.1111111111111111,
              "#46039f"
             ],
             [
              0.2222222222222222,
              "#7201a8"
             ],
             [
              0.3333333333333333,
              "#9c179e"
             ],
             [
              0.4444444444444444,
              "#bd3786"
             ],
             [
              0.5555555555555556,
              "#d8576b"
             ],
             [
              0.6666666666666666,
              "#ed7953"
             ],
             [
              0.7777777777777778,
              "#fb9f3a"
             ],
             [
              0.8888888888888888,
              "#fdca26"
             ],
             [
              1,
              "#f0f921"
             ]
            ],
            "type": "heatmapgl"
           }
          ],
          "histogram": [
           {
            "marker": {
             "pattern": {
              "fillmode": "overlay",
              "size": 10,
              "solidity": 0.2
             }
            },
            "type": "histogram"
           }
          ],
          "histogram2d": [
           {
            "colorbar": {
             "outlinewidth": 0,
             "ticks": ""
            },
            "colorscale": [
             [
              0,
              "#0d0887"
             ],
             [
              0.1111111111111111,
              "#46039f"
             ],
             [
              0.2222222222222222,
              "#7201a8"
             ],
             [
              0.3333333333333333,
              "#9c179e"
             ],
             [
              0.4444444444444444,
              "#bd3786"
             ],
             [
              0.5555555555555556,
              "#d8576b"
             ],
             [
              0.6666666666666666,
              "#ed7953"
             ],
             [
              0.7777777777777778,
              "#fb9f3a"
             ],
             [
              0.8888888888888888,
              "#fdca26"
             ],
             [
              1,
              "#f0f921"
             ]
            ],
            "type": "histogram2d"
           }
          ],
          "histogram2dcontour": [
           {
            "colorbar": {
             "outlinewidth": 0,
             "ticks": ""
            },
            "colorscale": [
             [
              0,
              "#0d0887"
             ],
             [
              0.1111111111111111,
              "#46039f"
             ],
             [
              0.2222222222222222,
              "#7201a8"
             ],
             [
              0.3333333333333333,
              "#9c179e"
             ],
             [
              0.4444444444444444,
              "#bd3786"
             ],
             [
              0.5555555555555556,
              "#d8576b"
             ],
             [
              0.6666666666666666,
              "#ed7953"
             ],
             [
              0.7777777777777778,
              "#fb9f3a"
             ],
             [
              0.8888888888888888,
              "#fdca26"
             ],
             [
              1,
              "#f0f921"
             ]
            ],
            "type": "histogram2dcontour"
           }
          ],
          "mesh3d": [
           {
            "colorbar": {
             "outlinewidth": 0,
             "ticks": ""
            },
            "type": "mesh3d"
           }
          ],
          "parcoords": [
           {
            "line": {
             "colorbar": {
              "outlinewidth": 0,
              "ticks": ""
             }
            },
            "type": "parcoords"
           }
          ],
          "pie": [
           {
            "automargin": true,
            "type": "pie"
           }
          ],
          "scatter": [
           {
            "fillpattern": {
             "fillmode": "overlay",
             "size": 10,
             "solidity": 0.2
            },
            "type": "scatter"
           }
          ],
          "scatter3d": [
           {
            "line": {
             "colorbar": {
              "outlinewidth": 0,
              "ticks": ""
             }
            },
            "marker": {
             "colorbar": {
              "outlinewidth": 0,
              "ticks": ""
             }
            },
            "type": "scatter3d"
           }
          ],
          "scattercarpet": [
           {
            "marker": {
             "colorbar": {
              "outlinewidth": 0,
              "ticks": ""
             }
            },
            "type": "scattercarpet"
           }
          ],
          "scattergeo": [
           {
            "marker": {
             "colorbar": {
              "outlinewidth": 0,
              "ticks": ""
             }
            },
            "type": "scattergeo"
           }
          ],
          "scattergl": [
           {
            "marker": {
             "colorbar": {
              "outlinewidth": 0,
              "ticks": ""
             }
            },
            "type": "scattergl"
           }
          ],
          "scattermapbox": [
           {
            "marker": {
             "colorbar": {
              "outlinewidth": 0,
              "ticks": ""
             }
            },
            "type": "scattermapbox"
           }
          ],
          "scatterpolar": [
           {
            "marker": {
             "colorbar": {
              "outlinewidth": 0,
              "ticks": ""
             }
            },
            "type": "scatterpolar"
           }
          ],
          "scatterpolargl": [
           {
            "marker": {
             "colorbar": {
              "outlinewidth": 0,
              "ticks": ""
             }
            },
            "type": "scatterpolargl"
           }
          ],
          "scatterternary": [
           {
            "marker": {
             "colorbar": {
              "outlinewidth": 0,
              "ticks": ""
             }
            },
            "type": "scatterternary"
           }
          ],
          "surface": [
           {
            "colorbar": {
             "outlinewidth": 0,
             "ticks": ""
            },
            "colorscale": [
             [
              0,
              "#0d0887"
             ],
             [
              0.1111111111111111,
              "#46039f"
             ],
             [
              0.2222222222222222,
              "#7201a8"
             ],
             [
              0.3333333333333333,
              "#9c179e"
             ],
             [
              0.4444444444444444,
              "#bd3786"
             ],
             [
              0.5555555555555556,
              "#d8576b"
             ],
             [
              0.6666666666666666,
              "#ed7953"
             ],
             [
              0.7777777777777778,
              "#fb9f3a"
             ],
             [
              0.8888888888888888,
              "#fdca26"
             ],
             [
              1,
              "#f0f921"
             ]
            ],
            "type": "surface"
           }
          ],
          "table": [
           {
            "cells": {
             "fill": {
              "color": "#EBF0F8"
             },
             "line": {
              "color": "white"
             }
            },
            "header": {
             "fill": {
              "color": "#C8D4E3"
             },
             "line": {
              "color": "white"
             }
            },
            "type": "table"
           }
          ]
         },
         "layout": {
          "annotationdefaults": {
           "arrowcolor": "#2a3f5f",
           "arrowhead": 0,
           "arrowwidth": 1
          },
          "autotypenumbers": "strict",
          "coloraxis": {
           "colorbar": {
            "outlinewidth": 0,
            "ticks": ""
           }
          },
          "colorscale": {
           "diverging": [
            [
             0,
             "#8e0152"
            ],
            [
             0.1,
             "#c51b7d"
            ],
            [
             0.2,
             "#de77ae"
            ],
            [
             0.3,
             "#f1b6da"
            ],
            [
             0.4,
             "#fde0ef"
            ],
            [
             0.5,
             "#f7f7f7"
            ],
            [
             0.6,
             "#e6f5d0"
            ],
            [
             0.7,
             "#b8e186"
            ],
            [
             0.8,
             "#7fbc41"
            ],
            [
             0.9,
             "#4d9221"
            ],
            [
             1,
             "#276419"
            ]
           ],
           "sequential": [
            [
             0,
             "#0d0887"
            ],
            [
             0.1111111111111111,
             "#46039f"
            ],
            [
             0.2222222222222222,
             "#7201a8"
            ],
            [
             0.3333333333333333,
             "#9c179e"
            ],
            [
             0.4444444444444444,
             "#bd3786"
            ],
            [
             0.5555555555555556,
             "#d8576b"
            ],
            [
             0.6666666666666666,
             "#ed7953"
            ],
            [
             0.7777777777777778,
             "#fb9f3a"
            ],
            [
             0.8888888888888888,
             "#fdca26"
            ],
            [
             1,
             "#f0f921"
            ]
           ],
           "sequentialminus": [
            [
             0,
             "#0d0887"
            ],
            [
             0.1111111111111111,
             "#46039f"
            ],
            [
             0.2222222222222222,
             "#7201a8"
            ],
            [
             0.3333333333333333,
             "#9c179e"
            ],
            [
             0.4444444444444444,
             "#bd3786"
            ],
            [
             0.5555555555555556,
             "#d8576b"
            ],
            [
             0.6666666666666666,
             "#ed7953"
            ],
            [
             0.7777777777777778,
             "#fb9f3a"
            ],
            [
             0.8888888888888888,
             "#fdca26"
            ],
            [
             1,
             "#f0f921"
            ]
           ]
          },
          "colorway": [
           "#636efa",
           "#EF553B",
           "#00cc96",
           "#ab63fa",
           "#FFA15A",
           "#19d3f3",
           "#FF6692",
           "#B6E880",
           "#FF97FF",
           "#FECB52"
          ],
          "font": {
           "color": "#2a3f5f"
          },
          "geo": {
           "bgcolor": "white",
           "lakecolor": "white",
           "landcolor": "#E5ECF6",
           "showlakes": true,
           "showland": true,
           "subunitcolor": "white"
          },
          "hoverlabel": {
           "align": "left"
          },
          "hovermode": "closest",
          "mapbox": {
           "style": "light"
          },
          "paper_bgcolor": "white",
          "plot_bgcolor": "#E5ECF6",
          "polar": {
           "angularaxis": {
            "gridcolor": "white",
            "linecolor": "white",
            "ticks": ""
           },
           "bgcolor": "#E5ECF6",
           "radialaxis": {
            "gridcolor": "white",
            "linecolor": "white",
            "ticks": ""
           }
          },
          "scene": {
           "xaxis": {
            "backgroundcolor": "#E5ECF6",
            "gridcolor": "white",
            "gridwidth": 2,
            "linecolor": "white",
            "showbackground": true,
            "ticks": "",
            "zerolinecolor": "white"
           },
           "yaxis": {
            "backgroundcolor": "#E5ECF6",
            "gridcolor": "white",
            "gridwidth": 2,
            "linecolor": "white",
            "showbackground": true,
            "ticks": "",
            "zerolinecolor": "white"
           },
           "zaxis": {
            "backgroundcolor": "#E5ECF6",
            "gridcolor": "white",
            "gridwidth": 2,
            "linecolor": "white",
            "showbackground": true,
            "ticks": "",
            "zerolinecolor": "white"
           }
          },
          "shapedefaults": {
           "line": {
            "color": "#2a3f5f"
           }
          },
          "ternary": {
           "aaxis": {
            "gridcolor": "white",
            "linecolor": "white",
            "ticks": ""
           },
           "baxis": {
            "gridcolor": "white",
            "linecolor": "white",
            "ticks": ""
           },
           "bgcolor": "#E5ECF6",
           "caxis": {
            "gridcolor": "white",
            "linecolor": "white",
            "ticks": ""
           }
          },
          "title": {
           "x": 0.05
          },
          "xaxis": {
           "automargin": true,
           "gridcolor": "white",
           "linecolor": "white",
           "ticks": "",
           "title": {
            "standoff": 15
           },
           "zerolinecolor": "white",
           "zerolinewidth": 2
          },
          "yaxis": {
           "automargin": true,
           "gridcolor": "white",
           "linecolor": "white",
           "ticks": "",
           "title": {
            "standoff": 15
           },
           "zerolinecolor": "white",
           "zerolinewidth": 2
          }
         }
        },
        "title": {
         "text": "US Prisoner Deaths by State"
        }
       }
      }
     },
     "metadata": {},
     "output_type": "display_data"
    }
   ],
   "source": [
    "\n",
    "\n",
    "# ------------------------------------------------------------------\n",
    "# 2) Aggregate number of deaths by state\n",
    "# ------------------------------------------------------------------\n",
    "state_counts = (\n",
    "    Cleaned_BJA_BJS_prison.groupby(\"State_Name\").size().reset_index(name=\"Deaths\")\n",
    ")\n",
    "\n",
    "# ------------------------------------------------------------------\n",
    "# 3) Prepare mapping from uppercase full state names to USPS codes\n",
    "# ------------------------------------------------------------------\n",
    "full_to_abbr = {\n",
    "    \"ALABAMA\": \"AL\",\n",
    "    \"ALASKA\": \"AK\",\n",
    "    \"ARIZONA\": \"AZ\",\n",
    "    \"ARKANSAS\": \"AR\",\n",
    "    \"CALIFORNIA\": \"CA\",\n",
    "    \"COLORADO\": \"CO\",\n",
    "    \"CONNECTICUT\": \"CT\",\n",
    "    \"DELAWARE\": \"DE\",\n",
    "    \"DISTRICT OF COLUMBIA\": \"DC\",\n",
    "    \"FLORIDA\": \"FL\",\n",
    "    \"GEORGIA\": \"GA\",\n",
    "    \"HAWAII\": \"HI\",\n",
    "    \"IDAHO\": \"ID\",\n",
    "    \"ILLINOIS\": \"IL\",\n",
    "    \"INDIANA\": \"IN\",\n",
    "    \"IOWA\": \"IA\",\n",
    "    \"KANSAS\": \"KS\",\n",
    "    \"KENTUCKY\": \"KY\",\n",
    "    \"LOUISIANA\": \"LA\",\n",
    "    \"MAINE\": \"ME\",\n",
    "    \"MARYLAND\": \"MD\",\n",
    "    \"MASSACHUSETTS\": \"MA\",\n",
    "    \"MICHIGAN\": \"MI\",\n",
    "    \"MINNESOTA\": \"MN\",\n",
    "    \"MISSISSIPPI\": \"MS\",\n",
    "    \"MISSOURI\": \"MO\",\n",
    "    \"MONTANA\": \"MT\",\n",
    "    \"NEBRASKA\": \"NE\",\n",
    "    \"NEVADA\": \"NV\",\n",
    "    \"NEW HAMPSHIRE\": \"NH\",\n",
    "    \"NEW JERSEY\": \"NJ\",\n",
    "    \"NEW MEXICO\": \"NM\",\n",
    "    \"NEW YORK\": \"NY\",\n",
    "    \"NORTH CAROLINA\": \"NC\",\n",
    "    \"NORTH DAKOTA\": \"ND\",\n",
    "    \"OHIO\": \"OH\",\n",
    "    \"OKLAHOMA\": \"OK\",\n",
    "    \"OREGON\": \"OR\",\n",
    "    \"PENNSYLVANIA\": \"PA\",\n",
    "    \"RHODE ISLAND\": \"RI\",\n",
    "    \"SOUTH CAROLINA\": \"SC\",\n",
    "    \"SOUTH DAKOTA\": \"SD\",\n",
    "    \"TENNESSEE\": \"TN\",\n",
    "    \"TEXAS\": \"TX\",\n",
    "    \"UTAH\": \"UT\",\n",
    "    \"VERMONT\": \"VT\",\n",
    "    \"VIRGINIA\": \"VA\",\n",
    "    \"WASHINGTON\": \"WA\",\n",
    "    \"WEST VIRGINIA\": \"WV\",\n",
    "    \"WISCONSIN\": \"WI\",\n",
    "    \"WYOMING\": \"WY\",\n",
    "}\n",
    "\n",
    "# Map each state name to its USPS code\n",
    "state_counts[\"abbr\"] = state_counts[\"State_Name\"].str.upper().map(full_to_abbr)\n",
    "\n",
    "# ------------------------------------------------------------------\n",
    "# 4) State centroids for label overlay\n",
    "# ------------------------------------------------------------------\n",
    "state_centroids = {\n",
    "    \"AL\": {\"lat\": 32.8067, \"lon\": -86.7911},\n",
    "    \"AK\": {\"lat\": 61.3707, \"lon\": -152.4044},\n",
    "    \"AZ\": {\"lat\": 33.7298, \"lon\": -111.4312},\n",
    "    \"AR\": {\"lat\": 34.9697, \"lon\": -92.3731},\n",
    "    \"CA\": {\"lat\": 36.1162, \"lon\": -119.6816},\n",
    "    \"CO\": {\"lat\": 39.0598, \"lon\": -105.3111},\n",
    "    \"CT\": {\"lat\": 41.5978, \"lon\": -72.7554},\n",
    "    \"DE\": {\"lat\": 39.3185, \"lon\": -75.5071},\n",
    "    \"DC\": {\"lat\": 38.8974, \"lon\": -77.0268},\n",
    "    \"FL\": {\"lat\": 27.7663, \"lon\": -81.6868},\n",
    "    \"GA\": {\"lat\": 33.0406, \"lon\": -83.6431},\n",
    "    \"HI\": {\"lat\": 21.0943, \"lon\": -157.4983},\n",
    "    \"ID\": {\"lat\": 44.2405, \"lon\": -114.4788},\n",
    "    \"IL\": {\"lat\": 40.3495, \"lon\": -88.9861},\n",
    "    \"IN\": {\"lat\": 39.8494, \"lon\": -86.2583},\n",
    "    \"IA\": {\"lat\": 42.0115, \"lon\": -93.2105},\n",
    "    \"KS\": {\"lat\": 38.5266, \"lon\": -96.7265},\n",
    "    \"KY\": {\"lat\": 37.6681, \"lon\": -84.6701},\n",
    "    \"LA\": {\"lat\": 31.1695, \"lon\": -91.8678},\n",
    "    \"ME\": {\"lat\": 44.6939, \"lon\": -69.3819},\n",
    "    \"MD\": {\"lat\": 39.0639, \"lon\": -76.8021},\n",
    "    \"MA\": {\"lat\": 42.2302, \"lon\": -71.5301},\n",
    "    \"MI\": {\"lat\": 43.3266, \"lon\": -84.5361},\n",
    "    \"MN\": {\"lat\": 45.6945, \"lon\": -93.9002},\n",
    "    \"MS\": {\"lat\": 32.7416, \"lon\": -89.6787},\n",
    "    \"MO\": {\"lat\": 38.4561, \"lon\": -92.2884},\n",
    "    \"MT\": {\"lat\": 46.9219, \"lon\": -110.4544},\n",
    "    \"NE\": {\"lat\": 41.1254, \"lon\": -98.2681},\n",
    "    \"NV\": {\"lat\": 38.3135, \"lon\": -117.0554},\n",
    "    \"NH\": {\"lat\": 43.4525, \"lon\": -71.5639},\n",
    "    \"NJ\": {\"lat\": 40.2989, \"lon\": -74.5210},\n",
    "    \"NM\": {\"lat\": 34.8405, \"lon\": -106.2485},\n",
    "    \"NY\": {\"lat\": 42.1657, \"lon\": -74.9481},\n",
    "    \"NC\": {\"lat\": 35.6301, \"lon\": -79.8064},\n",
    "    \"ND\": {\"lat\": 47.5289, \"lon\": -99.7840},\n",
    "    \"OH\": {\"lat\": 40.3888, \"lon\": -82.7649},\n",
    "    \"OK\": {\"lat\": 35.5653, \"lon\": -96.9289},\n",
    "    \"OR\": {\"lat\": 44.5720, \"lon\": -122.0709},\n",
    "    \"PA\": {\"lat\": 40.5908, \"lon\": -77.2098},\n",
    "    \"RI\": {\"lat\": 41.6809, \"lon\": -71.5118},\n",
    "    \"SC\": {\"lat\": 33.8569, \"lon\": -80.9450},\n",
    "    \"SD\": {\"lat\": 44.2998, \"lon\": -99.4388},\n",
    "    \"TN\": {\"lat\": 35.7478, \"lon\": -86.6923},\n",
    "    \"TX\": {\"lat\": 31.0545, \"lon\": -97.5635},\n",
    "    \"UT\": {\"lat\": 40.1500, \"lon\": -111.8624},\n",
    "    \"VT\": {\"lat\": 44.0459, \"lon\": -72.7107},\n",
    "    \"VA\": {\"lat\": 37.7693, \"lon\": -78.1699},\n",
    "    \"WA\": {\"lat\": 47.4009, \"lon\": -121.4905},\n",
    "    \"WV\": {\"lat\": 38.4912, \"lon\": -80.9545},\n",
    "    \"WI\": {\"lat\": 44.2685, \"lon\": -89.6165},\n",
    "    \"WY\": {\"lat\": 42.7560, \"lon\": -107.3025},\n",
    "}\n",
    "# Attach lat/lon to the DataFrame\n",
    "state_counts[\"lat\"] = state_counts[\"abbr\"].map(lambda s: state_centroids[s][\"lat\"])\n",
    "state_counts[\"lon\"] = state_counts[\"abbr\"].map(lambda s: state_centroids[s][\"lon\"])\n",
    "\n",
    "# ------------------------------------------------------------------\n",
    "# 5) Create the choropleth map\n",
    "# ------------------------------------------------------------------\n",
    "fig = px.choropleth(\n",
    "    state_counts,\n",
    "    locations=\"abbr\",\n",
    "    locationmode=\"USA-states\",\n",
    "    color=\"Deaths\",\n",
    "    hover_name=\"State_Name\",\n",
    "    hover_data={\"Deaths\": True, \"abbr\": False},\n",
    "    scope=\"usa\",\n",
    "    color_continuous_scale=\"Reds\",\n",
    "    labels={\"Deaths\": \"Prisoner Deaths\"},\n",
    "    title=\"US Prisoner Deaths by State\",\n",
    ")\n",
    "\n",
    "# ------------------------------------------------------------------\n",
    "# 6) Overlay state abbreviations without hoverinfo\n",
    "# ------------------------------------------------------------------\n",
    "fig.add_trace(\n",
    "    go.Scattergeo(\n",
    "        lon=state_counts[\"lon\"],\n",
    "        lat=state_counts[\"lat\"],\n",
    "        text=state_counts[\"abbr\"],\n",
    "        mode=\"text\",\n",
    "        showlegend=False,\n",
    "        hoverinfo=\"none\",\n",
    "        textfont=dict(size=10, color=\"black\"),\n",
    "    )\n",
    ")\n",
    "\n",
    "# ------------------------------------------------------------------\n",
    "# 7) Final layout tweaks\n",
    "# ------------------------------------------------------------------\n",
    "fig.update_layout(\n",
    "    geo=dict(lakecolor=\"white\", bgcolor=\"#F0F0F0\"), margin=dict(l=0, r=0, t=50, b=0)\n",
    ")\n",
    "\n",
    "# ------------------------------------------------------------------\n",
    "# 8) Export HTML and display\n",
    "# ------------------------------------------------------------------\n",
    "fig.write_html(\"prisoner_deaths_map_with_labels.html\", include_plotlyjs=\"cdn\")\n",
    "fig.show()"
   ]
  }
 ],
 "metadata": {
  "kernelspec": {
   "display_name": "Python 3",
   "language": "python",
   "name": "python3"
  },
  "language_info": {
   "codemirror_mode": {
    "name": "ipython",
    "version": 3
   },
   "file_extension": ".py",
   "mimetype": "text/x-python",
   "name": "python",
   "nbconvert_exporter": "python",
   "pygments_lexer": "ipython3",
   "version": "3.11.9"
  }
 },
 "nbformat": 4,
 "nbformat_minor": 5
}
